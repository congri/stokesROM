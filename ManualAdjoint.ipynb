{
 "cells": [
  {
   "cell_type": "code",
   "execution_count": 1,
   "metadata": {},
   "outputs": [],
   "source": [
    "from dolfin import *\n",
    "import numpy as np\n",
    "import matplotlib.pyplot as plt\n",
    "%matplotlib inline"
   ]
  },
  {
   "cell_type": "code",
   "execution_count": 2,
   "metadata": {},
   "outputs": [
    {
     "name": "stdout",
     "output_type": "stream",
     "text": [
      "2.88 ms ± 34.9 µs per loop (mean ± std. dev. of 7 runs, 100 loops each)\n"
     ]
    }
   ],
   "source": [
    "# Create mesh and define function space\n",
    "mesh = UnitSquareMesh(2, 2)\n",
    "V = FunctionSpace(mesh, 'CG', 1)\n",
    "Vc = FunctionSpace(mesh,'DG',0)\n",
    "\n",
    "# Define Dirichlet boundary (x = 0 or x = 1)\n",
    "def boundary_left(x):\n",
    "    return x[0] < DOLFIN_EPS\n",
    "\n",
    "def boundary_right(x):\n",
    "    return x[0] > 1.0 - DOLFIN_EPS\n",
    "\n",
    "# Define boundary condition\n",
    "u0 = Constant(0.0)\n",
    "u1 = Constant(10.0)\n",
    "#bc = DirichletBC(V, u0, boundary)\n",
    "mybc_expr = Expression('10*x[1]+1',degree=2)\n",
    "\n",
    "#Define Neumann boundary condition\n",
    "u_x = '0.0-2.0*x[1]'\n",
    "u_y = '1.0-2.0*x[0]'\n",
    "flowField = Expression((u_x, u_y), degree=2)\n",
    "bcFlux = inner(FacetNormal(mesh), flowField)\n",
    "\n",
    "\n",
    "bc = [DirichletBC(V, u1, boundary_left), DirichletBC(V, mybc_expr, boundary_right)]\n",
    "\n",
    "theta = Function(Vc)\n",
    "theta.vector()[:] = 1 + np.abs(np.random.normal(0,0.05,Vc.dim()))\n",
    "\n",
    "# Define variational problem\n",
    "u = TrialFunction(V)\n",
    "v = TestFunction(V)\n",
    "f = Expression(\"10*exp(-(pow(x[0] - 0.5, 2) + pow(x[1] - 0.5, 2)) / 0.02)\",degree=2)\n",
    "a = theta*inner(grad(u), grad(v))*dx\n",
    "L = f*v*dx + bcFlux * v * ds\n",
    "\n",
    "# Compute solution\n",
    "u = Function(V)\n",
    "solve(a == L, u, bc)\n",
    "\n",
    "u_solution_vec = u.vector().get_local()"
   ]
  },
  {
   "cell_type": "code",
   "execution_count": null,
   "metadata": {},
   "outputs": [],
   "source": []
  },
  {
   "cell_type": "code",
   "execution_count": 3,
   "metadata": {},
   "outputs": [],
   "source": [
    "# For repeated finite difference evaluation\n",
    "def ForwardSolver(x):\n",
    "    \n",
    "    uu = TrialFunction(V)\n",
    "    vv = TestFunction(V)\n",
    "    thetal = Function(Vc)\n",
    "    thetal.vector()[:] = x\n",
    "    aa = thetal*inner(grad(uu), grad(vv))*dx\n",
    "    LL = f*vv*dx\n",
    "    uu = Function(V)\n",
    "    solve(aa==LL,uu,bc)\n",
    "    return uu.vector().get_local()"
   ]
  },
  {
   "cell_type": "code",
   "execution_count": 4,
   "metadata": {},
   "outputs": [
    {
     "data": {
      "text/plain": [
       "<matplotlib.tri.tricontour.TriContourSet at 0x7fc46266f470>"
      ]
     },
     "execution_count": 4,
     "metadata": {},
     "output_type": "execute_result"
    },
    {
     "data": {
      "image/png": "[encoded data removed]",
      "text/plain": [
       "<Figure size 432x288 with 1 Axes>"
      ]
     },
     "metadata": {},
     "output_type": "display_data"
    }
   ],
   "source": [
    "# Plot of solution\n",
    "plot(u)"
   ]
  },
  {
   "cell_type": "markdown",
   "metadata": {},
   "source": [
    "### Functional : to be replaced with Gaussian likelihood\n",
    "Here depends on the solution vector u.vector().array()"
   ]
  },
  {
   "cell_type": "code",
   "execution_count": 5,
   "metadata": {},
   "outputs": [],
   "source": [
    "# Make up bogus functional\n",
    "H = np.abs(np.random.normal(0,1,(V.dim(), V.dim())))\n",
    "H = H + H.T + np.eye(V.dim())\n",
    "#H = np.eye(V.dim())\n",
    "\n",
    "# A functional of the solution which by construction has H as the Hessian\n",
    "def Functional(x):\n",
    "    return -0.5*x.dot(H.dot(x))"
   ]
  },
  {
   "cell_type": "code",
   "execution_count": null,
   "metadata": {},
   "outputs": [],
   "source": []
  },
  {
   "cell_type": "markdown",
   "metadata": {},
   "source": [
    "# Finite Differences"
   ]
  },
  {
   "cell_type": "code",
   "execution_count": 6,
   "metadata": {},
   "outputs": [
    {
     "name": "stderr",
     "output_type": "stream",
     "text": [
      "/home/constantin/.conda/envs/pyadjoint/lib/python3.5/site-packages/dolfin/cpp/la.py:1128: DeprecationWarning: GenericVector.array() is being deprecated, use GenericVector.get_local()\n",
      "  \"use GenericVector.get_local()\", DeprecationWarning)\n"
     ]
    }
   ],
   "source": [
    "# Get Finite Difference Vector\n",
    "\n",
    "h = 1e-10\n",
    "\n",
    "x0 = theta.vector().array()\n",
    "grad_fd = np.zeros(Vc.dim())\n",
    "\n",
    "for i in range(Vc.dim()):\n",
    "    xp = x0.copy()\n",
    "    xm = x0.copy()\n",
    "    \n",
    "    xp[i] = xp[i] + h\n",
    "    xm[i] = xm[i] - h\n",
    "        \n",
    "    upv = ForwardSolver(xp)\n",
    "    Lp = Functional(upv)\n",
    "    \n",
    "    upm = ForwardSolver(xm)\n",
    "    Lm = Functional(upm)\n",
    "    \n",
    "    grad_fd[i] = (Lp - Lm)/(2*h)\n",
    "    "
   ]
  },
  {
   "cell_type": "code",
   "execution_count": 7,
   "metadata": {},
   "outputs": [],
   "source": [
    "# reset theta for adjoint\n",
    "theta.vector()[:] = x0\n",
    "solve(a==L,u,bc)"
   ]
  },
  {
   "cell_type": "markdown",
   "metadata": {},
   "source": [
    "# Adjoint Method"
   ]
  },
  {
   "cell_type": "code",
   "execution_count": null,
   "metadata": {},
   "outputs": [],
   "source": []
  },
  {
   "cell_type": "code",
   "execution_count": 8,
   "metadata": {},
   "outputs": [],
   "source": [
    "# derivative of residual wrt u\n",
    "K = assemble(a)\n",
    "\n",
    "# we need to apply boundary condition to K\n",
    "for mybc in bc:\n",
    "    mybc.apply(K)\n",
    "    \n",
    "    \n",
    "K = K.array()\n",
    "\n",
    "# derivative of functional wrt u\n",
    "b = -H.dot(u.vector().get_local())\n",
    "\n",
    "helperfunction = Function(V)\n",
    "helperfunction.vector()[:] = b\n",
    "for mybc in bc:\n",
    "    mybc.homogenize()\n",
    "    mybc.apply(helperfunction.vector())\n",
    "    \n",
    "b = helperfunction.vector().get_local()\n",
    "\n",
    "# get lambda\n",
    "lmbda = np.linalg.solve(K, b)"
   ]
  },
  {
   "cell_type": "code",
   "execution_count": null,
   "metadata": {},
   "outputs": [],
   "source": []
  },
  {
   "cell_type": "code",
   "execution_count": 9,
   "metadata": {},
   "outputs": [],
   "source": [
    "#helperfunction = Function(V)\n",
    "#helperfunction.vector()[:] = b\n"
   ]
  },
  {
   "cell_type": "code",
   "execution_count": 10,
   "metadata": {},
   "outputs": [],
   "source": [
    "# derivative of r wrt theta\n",
    "# the trick is that here we are not using u as trial functions, but instead as function\n",
    "r = theta*inner(grad(u), grad(v))*dx    # the part of the residual that depends on theta\n",
    "\n",
    "dr_dtheta = assemble(derivative(r,theta)).array()\n",
    "\n",
    "grad_adjoint = -lmbda.dot(dr_dtheta)\n"
   ]
  },
  {
   "cell_type": "code",
   "execution_count": 11,
   "metadata": {},
   "outputs": [
    {
     "name": "stdout",
     "output_type": "stream",
     "text": [
      "Relative Error (L2): 1.693956758362778e-05\n"
     ]
    }
   ],
   "source": [
    "print(\"Relative Error (L2): {}\".format(np.linalg.norm(grad_fd - grad_adjoint)/np.linalg.norm(grad_fd)))"
   ]
  },
  {
   "cell_type": "code",
   "execution_count": 12,
   "metadata": {},
   "outputs": [
    {
     "data": {
      "image/png": "[encoded data removed]",
      "text/plain": [
       "<Figure size 432x288 with 1 Axes>"
      ]
     },
     "metadata": {},
     "output_type": "display_data"
    }
   ],
   "source": [
    "plt.plot(grad_fd[::1])\n",
    "plt.plot(grad_adjoint[::1],'r--')\n",
    "plt.title('Gradient wrt theta');"
   ]
  },
  {
   "cell_type": "code",
   "execution_count": 13,
   "metadata": {},
   "outputs": [
    {
     "data": {
      "text/plain": [
       "1.693956758362778e-05"
      ]
     },
     "execution_count": 13,
     "metadata": {},
     "output_type": "execute_result"
    }
   ],
   "source": [
    "np.linalg.norm(grad_fd - grad_adjoint)/np.linalg.norm(grad_fd)"
   ]
  },
  {
   "cell_type": "code",
   "execution_count": null,
   "metadata": {},
   "outputs": [],
   "source": []
  },
  {
   "cell_type": "code",
   "execution_count": null,
   "metadata": {},
   "outputs": [],
   "source": []
  },
  {
   "cell_type": "code",
   "execution_count": null,
   "metadata": {},
   "outputs": [],
   "source": [
    "\n"
   ]
  },
  {
   "cell_type": "code",
   "execution_count": null,
   "metadata": {},
   "outputs": [],
   "source": []
  },
  {
   "cell_type": "code",
   "execution_count": null,
   "metadata": {},
   "outputs": [],
   "source": []
  },
  {
   "cell_type": "code",
   "execution_count": null,
   "metadata": {},
   "outputs": [],
   "source": []
  },
  {
   "cell_type": "code",
   "execution_count": null,
   "metadata": {},
   "outputs": [],
   "source": []
  },
  {
   "cell_type": "code",
   "execution_count": null,
   "metadata": {},
   "outputs": [],
   "source": []
  },
  {
   "cell_type": "code",
   "execution_count": null,
   "metadata": {},
   "outputs": [],
   "source": []
  }
 ],
 "metadata": {
  "kernelspec": {
   "display_name": "Python [conda env:pyadjoint]",
   "language": "python",
   "name": "conda-env-pyadjoint-py"
  },
  "language_info": {
   "codemirror_mode": {
    "name": "ipython",
    "version": 3
   },
   "file_extension": ".py",
   "mimetype": "text/x-python",
   "name": "python",
   "nbconvert_exporter": "python",
   "pygments_lexer": "ipython3",
   "version": "3.5.5"
  }
 },
 "nbformat": 4,
 "nbformat_minor": 2
}
