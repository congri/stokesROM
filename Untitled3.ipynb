{
 "cells": [
  {
   "cell_type": "code",
   "execution_count": 3,
   "metadata": {},
   "outputs": [
    {
     "name": "stdout",
     "output_type": "stream",
     "text": [
      "Run the command line:\n",
      "--> tensorboard --logdir=log\n",
      "Then open http://localhost:6006/ in your web browser.\n"
     ]
    }
   ],
   "source": [
    "import dolfin as df\n",
    "import fenics_adjoint as dfa\n",
    "\n",
    "n = 30\n",
    "mesh = df.UnitSquareMesh(n, n)\n",
    "V = df.VectorFunctionSpace(mesh, \"CG\", 2)\n",
    "\n",
    "u = df.project(df.Expression((\"sin(2*pi*x[0])\", \"cos(2*pi*x[1])\"), degree=2),  V)\n",
    "u_next = df.Function(V)\n",
    "v = df.TestFunction(V)\n",
    "\n",
    "nu = df.Constant(0.0001)\n",
    "\n",
    "timestep = df.Constant(0.01)\n",
    "\n",
    "F = (df.inner((u_next - u)/timestep, v)\n",
    "     + df.inner(grad(u_next)*u_next, v)\n",
    "     + nu*df.inner(grad(u_next), grad(v)))*dx\n",
    "\n",
    "bc = df.DirichletBC(V, (0.0, 0.0), \"on_boundary\")\n",
    "\n",
    "df.solve(F == 0, u_next, bc)\n",
    "\n",
    "tape = dfa.get_working_tape()\n",
    "tape.visualise()"
   ]
  },
  {
   "cell_type": "code",
   "execution_count": 2,
   "metadata": {},
   "outputs": [
    {
     "ename": "SyntaxError",
     "evalue": "can't assign to operator (<ipython-input-2-0269d46c0711>, line 1)",
     "output_type": "error",
     "traceback": [
      "\u001b[0;36m  File \u001b[0;32m\"<ipython-input-2-0269d46c0711>\"\u001b[0;36m, line \u001b[0;32m1\u001b[0m\n\u001b[0;31m    tensorboard --logdir=log\u001b[0m\n\u001b[0m                            ^\u001b[0m\n\u001b[0;31mSyntaxError\u001b[0m\u001b[0;31m:\u001b[0m can't assign to operator\n"
     ]
    }
   ],
   "source": [
    "tensorboard --logdir=log"
   ]
  },
  {
   "cell_type": "code",
   "execution_count": null,
   "metadata": {},
   "outputs": [],
   "source": []
  }
 ],
 "metadata": {
  "kernelspec": {
   "display_name": "Python [conda env:pyadjoint]",
   "language": "python",
   "name": "conda-env-pyadjoint-py"
  },
  "language_info": {
   "codemirror_mode": {
    "name": "ipython",
    "version": 3
   },
   "file_extension": ".py",
   "mimetype": "text/x-python",
   "name": "python",
   "nbconvert_exporter": "python",
   "pygments_lexer": "ipython3",
   "version": "3.5.5"
  }
 },
 "nbformat": 4,
 "nbformat_minor": 2
}
