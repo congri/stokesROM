{
 "cells": [
  {
   "cell_type": "code",
   "execution_count": 6,
   "metadata": {},
   "outputs": [],
   "source": [
    "from pyadjoint import Block, annotate_tape, stop_annotating\n",
    "from fenics_adjoint.types import create_overloaded_object\n",
    "import fenics as df\n",
    "import fenics_adjoint as dfa\n",
    "import pyadjoint as pya\n",
    "\n",
    "def normalise(func):\n",
    "    vec = func.vector()\n",
    "    vec /= vec.norm('l2')\n",
    "    return dfa.Function(func.function_space(), vec)\n",
    "\n",
    "backend_normalise = normalise"
   ]
  },
  {
   "cell_type": "code",
   "execution_count": 7,
   "metadata": {},
   "outputs": [],
   "source": [
    "mesh = df.UnitSquareMesh(10, 10)\n",
    "V = dfa.FunctionSpace(mesh, 'CG', 1)\n",
    "\n",
    "f = dfa.project(dfa.Expression('x[0]*x[1]', degree=1), V)\n",
    "\n",
    "g = normalise(f)\n",
    "\n",
    "J = dfa.assemble(g*df.dx)"
   ]
  },
  {
   "cell_type": "code",
   "execution_count": 8,
   "metadata": {},
   "outputs": [],
   "source": [
    "def normalise(func, **kwargs):\n",
    "    annotate = annotate_tape(kwargs)\n",
    "\n",
    "    if annotate:\n",
    "        tape = dfa.get_working_tape()\n",
    "        block = NormaliseBlock(func)\n",
    "        tape.add_block(block)\n",
    "\n",
    "    with stop_annotating():\n",
    "        output = backend_normalise(func, **kwargs)\n",
    "\n",
    "    output = create_overloaded_object(output)\n",
    "\n",
    "    if annotate:\n",
    "        block.add_output(output.create_block_variable())\n",
    "\n",
    "    return output"
   ]
  },
  {
   "cell_type": "code",
   "execution_count": 9,
   "metadata": {},
   "outputs": [],
   "source": [
    "class NormaliseBlock(Block):\n",
    "    def __init__(self, func, **kwargs):\n",
    "        super(NormaliseBlock, self).__init__()\n",
    "        self.kwargs = kwargs\n",
    "        self.add_dependency(func.block_variable)\n",
    "\n",
    "    def __str__(self):\n",
    "        return 'NormaliseBlock'\n",
    "\n",
    "    def evaluate_adj(self):\n",
    "        \n",
    "        adj_input = self.get_outputs()[0].adj_value\n",
    "        dependency = self.get_dependencies()[0]\n",
    "        x = dependency.saved_output.vector()\n",
    "\n",
    "        adj_output = x.copy()\n",
    "\n",
    "        xnorm = x.norm('l2')\n",
    "\n",
    "        const = 0\n",
    "        for i in range(len(x)):\n",
    "            const += adj_input[i][0]*x[i][0]\n",
    "        const /= xnorm**3\n",
    "\n",
    "        for i in range(len(x)):\n",
    "            adj_output[i] = adj_input[i][0]/xnorm - const*x[i][0]\n",
    "        dependency.add_adj_output(adj_output)\n",
    "\n",
    "    def recompute(self):\n",
    "        dependencies = self.get_dependencies()\n",
    "        func = dependencies[0].saved_output\n",
    "        output = backend_normalise(func)\n",
    "        self.get_outputs()[0].checkpoint = output\n",
    "        "
   ]
  },
  {
   "cell_type": "code",
   "execution_count": 10,
   "metadata": {},
   "outputs": [
    {
     "ename": "AttributeError",
     "evalue": "'float' object has no attribute 'block_variable'",
     "output_type": "error",
     "traceback": [
      "\u001b[0;31m---------------------------------------------------------------------------\u001b[0m",
      "\u001b[0;31mAttributeError\u001b[0m                            Traceback (most recent call last)",
      "\u001b[0;32m<ipython-input-10-d66e26d5a0ee>\u001b[0m in \u001b[0;36m<module>\u001b[0;34m()\u001b[0m\n\u001b[1;32m     11\u001b[0m \u001b[0mh\u001b[0m\u001b[0;34m.\u001b[0m\u001b[0mvector\u001b[0m\u001b[0;34m(\u001b[0m\u001b[0;34m)\u001b[0m\u001b[0;34m[\u001b[0m\u001b[0;34m:\u001b[0m\u001b[0;34m]\u001b[0m \u001b[0;34m=\u001b[0m \u001b[0;36m0.1\u001b[0m\u001b[0;34m\u001b[0m\u001b[0m\n\u001b[1;32m     12\u001b[0m \u001b[0mpya\u001b[0m\u001b[0;34m.\u001b[0m\u001b[0mReducedFunctional\u001b[0m\u001b[0;34m(\u001b[0m\u001b[0mJ\u001b[0m\u001b[0;34m,\u001b[0m \u001b[0mdfa\u001b[0m\u001b[0;34m.\u001b[0m\u001b[0mControl\u001b[0m\u001b[0;34m(\u001b[0m\u001b[0mf\u001b[0m\u001b[0;34m)\u001b[0m\u001b[0;34m)\u001b[0m\u001b[0;34m\u001b[0m\u001b[0m\n\u001b[0;32m---> 13\u001b[0;31m \u001b[0mpya\u001b[0m\u001b[0;34m.\u001b[0m\u001b[0mtaylor_test\u001b[0m\u001b[0;34m(\u001b[0m\u001b[0mpya\u001b[0m\u001b[0;34m.\u001b[0m\u001b[0mReducedFunctional\u001b[0m\u001b[0;34m(\u001b[0m\u001b[0mJ\u001b[0m\u001b[0;34m,\u001b[0m \u001b[0mdfa\u001b[0m\u001b[0;34m.\u001b[0m\u001b[0mControl\u001b[0m\u001b[0;34m(\u001b[0m\u001b[0mf\u001b[0m\u001b[0;34m)\u001b[0m\u001b[0;34m)\u001b[0m\u001b[0;34m,\u001b[0m \u001b[0mf\u001b[0m\u001b[0;34m,\u001b[0m \u001b[0mh\u001b[0m\u001b[0;34m)\u001b[0m\u001b[0;34m\u001b[0m\u001b[0m\n\u001b[0m",
      "\u001b[0;32m~/.conda/envs/pyadjoint/lib/python3.5/site-packages/pyadjoint/verification.py\u001b[0m in \u001b[0;36mtaylor_test\u001b[0;34m(J, m, h, dJdm, Hm)\u001b[0m\n\u001b[1;32m     31\u001b[0m             \u001b[0;32mraise\u001b[0m \u001b[0mValueError\u001b[0m\u001b[0;34m(\u001b[0m\u001b[0;34m\"%d perturbations are given but only %d expansion points are provided\"\u001b[0m\u001b[0;34m%\u001b[0m\u001b[0;34m(\u001b[0m\u001b[0mlen\u001b[0m\u001b[0;34m(\u001b[0m\u001b[0mhs\u001b[0m\u001b[0;34m)\u001b[0m\u001b[0;34m,\u001b[0m \u001b[0mlen\u001b[0m\u001b[0;34m(\u001b[0m\u001b[0mms\u001b[0m\u001b[0;34m)\u001b[0m\u001b[0;34m)\u001b[0m\u001b[0;34m)\u001b[0m\u001b[0;34m\u001b[0m\u001b[0m\n\u001b[1;32m     32\u001b[0m \u001b[0;34m\u001b[0m\u001b[0m\n\u001b[0;32m---> 33\u001b[0;31m         \u001b[0mJm\u001b[0m \u001b[0;34m=\u001b[0m \u001b[0mJ\u001b[0m\u001b[0;34m(\u001b[0m\u001b[0mm\u001b[0m\u001b[0;34m)\u001b[0m\u001b[0;34m\u001b[0m\u001b[0m\n\u001b[0m\u001b[1;32m     34\u001b[0m         \u001b[0;32mif\u001b[0m \u001b[0mdJdm\u001b[0m \u001b[0;32mis\u001b[0m \u001b[0;32mNone\u001b[0m\u001b[0;34m:\u001b[0m\u001b[0;34m\u001b[0m\u001b[0m\n\u001b[1;32m     35\u001b[0m             \u001b[0mds\u001b[0m \u001b[0;34m=\u001b[0m \u001b[0mEnlist\u001b[0m\u001b[0;34m(\u001b[0m\u001b[0mJ\u001b[0m\u001b[0;34m.\u001b[0m\u001b[0mderivative\u001b[0m\u001b[0;34m(\u001b[0m\u001b[0;34m)\u001b[0m\u001b[0;34m)\u001b[0m\u001b[0;34m\u001b[0m\u001b[0m\n",
      "\u001b[0;32m~/.conda/envs/pyadjoint/lib/python3.5/site-packages/pyadjoint/tape.py\u001b[0m in \u001b[0;36mwrapper\u001b[0;34m(*args, **kwargs)\u001b[0m\n\u001b[1;32m     44\u001b[0m     \u001b[0;32mdef\u001b[0m \u001b[0mwrapper\u001b[0m\u001b[0;34m(\u001b[0m\u001b[0;34m*\u001b[0m\u001b[0margs\u001b[0m\u001b[0;34m,\u001b[0m \u001b[0;34m**\u001b[0m\u001b[0mkwargs\u001b[0m\u001b[0;34m)\u001b[0m\u001b[0;34m:\u001b[0m\u001b[0;34m\u001b[0m\u001b[0m\n\u001b[1;32m     45\u001b[0m         \u001b[0;32mwith\u001b[0m \u001b[0mstop_annotating\u001b[0m\u001b[0;34m(\u001b[0m\u001b[0;34m)\u001b[0m\u001b[0;34m:\u001b[0m\u001b[0;34m\u001b[0m\u001b[0m\n\u001b[0;32m---> 46\u001b[0;31m             \u001b[0;32mreturn\u001b[0m \u001b[0mfunction\u001b[0m\u001b[0;34m(\u001b[0m\u001b[0;34m*\u001b[0m\u001b[0margs\u001b[0m\u001b[0;34m,\u001b[0m \u001b[0;34m**\u001b[0m\u001b[0mkwargs\u001b[0m\u001b[0;34m)\u001b[0m\u001b[0;34m\u001b[0m\u001b[0m\n\u001b[0m\u001b[1;32m     47\u001b[0m     \u001b[0;32mreturn\u001b[0m \u001b[0mwrapper\u001b[0m\u001b[0;34m\u001b[0m\u001b[0m\n\u001b[1;32m     48\u001b[0m \u001b[0;34m\u001b[0m\u001b[0m\n",
      "\u001b[0;32m~/.conda/envs/pyadjoint/lib/python3.5/site-packages/pyadjoint/reduced_functional.py\u001b[0m in \u001b[0;36m__call__\u001b[0;34m(self, values)\u001b[0m\n\u001b[1;32m    132\u001b[0m                     \u001b[0mblocks\u001b[0m\u001b[0;34m[\u001b[0m\u001b[0mi\u001b[0m\u001b[0;34m]\u001b[0m\u001b[0;34m.\u001b[0m\u001b[0mrecompute\u001b[0m\u001b[0;34m(\u001b[0m\u001b[0;34m)\u001b[0m\u001b[0;34m\u001b[0m\u001b[0m\n\u001b[1;32m    133\u001b[0m \u001b[0;34m\u001b[0m\u001b[0m\n\u001b[0;32m--> 134\u001b[0;31m         \u001b[0mfunc_value\u001b[0m \u001b[0;34m=\u001b[0m \u001b[0mself\u001b[0m\u001b[0;34m.\u001b[0m\u001b[0mfunctional\u001b[0m\u001b[0;34m.\u001b[0m\u001b[0mblock_variable\u001b[0m\u001b[0;34m.\u001b[0m\u001b[0mcheckpoint\u001b[0m\u001b[0;34m\u001b[0m\u001b[0m\n\u001b[0m\u001b[1;32m    135\u001b[0m \u001b[0;34m\u001b[0m\u001b[0m\n\u001b[1;32m    136\u001b[0m         \u001b[0;31m# Call callback\u001b[0m\u001b[0;34m\u001b[0m\u001b[0;34m\u001b[0m\u001b[0m\n",
      "\u001b[0;31mAttributeError\u001b[0m: 'float' object has no attribute 'block_variable'"
     ]
    }
   ],
   "source": [
    "mesh = df.UnitSquareMesh(10, 10)\n",
    "V = dfa.FunctionSpace(mesh, 'CG', 1)\n",
    "\n",
    "f = dfa.project(dfa.Expression('x[0]*x[1]', degree=1), V)\n",
    "\n",
    "g = normalise(f)\n",
    "\n",
    "J = df.assemble(g*df.dx)\n",
    "\n",
    "h = df.Function(V)\n",
    "h.vector()[:] = 0.1\n",
    "pya.ReducedFunctional(J, dfa.Control(f))\n",
    "pya.taylor_test(pya.ReducedFunctional(J, dfa.Control(f)), f, h)"
   ]
  },
  {
   "cell_type": "code",
   "execution_count": 11,
   "metadata": {},
   "outputs": [
    {
     "data": {
      "text/plain": [
       "<pyadjoint.reduced_functional.ReducedFunctional at 0x7f7a2fecb358>"
      ]
     },
     "execution_count": 11,
     "metadata": {},
     "output_type": "execute_result"
    }
   ],
   "source": [
    "pya.ReducedFunctional(J, dfa.Control(f))"
   ]
  },
  {
   "cell_type": "code",
   "execution_count": null,
   "metadata": {},
   "outputs": [],
   "source": []
  },
  {
   "cell_type": "code",
   "execution_count": null,
   "metadata": {},
   "outputs": [],
   "source": []
  }
 ],
 "metadata": {
  "kernelspec": {
   "display_name": "Python [conda env:pyadjoint]",
   "language": "python",
   "name": "conda-env-pyadjoint-py"
  },
  "language_info": {
   "codemirror_mode": {
    "name": "ipython",
    "version": 3
   },
   "file_extension": ".py",
   "mimetype": "text/x-python",
   "name": "python",
   "nbconvert_exporter": "python",
   "pygments_lexer": "ipython3",
   "version": "3.5.5"
  }
 },
 "nbformat": 4,
 "nbformat_minor": 2
}
