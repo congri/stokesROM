{
 "cells": [
  {
   "cell_type": "code",
   "execution_count": 1,
   "metadata": {},
   "outputs": [],
   "source": [
    "import matplotlib.pyplot as plt\n",
    "import fenics as df\n",
    "import fenics_adjoint as dfa\n",
    "import pyadjoint as pya\n",
    "\n",
    "def backend_normalise(func):\n",
    "    vec = func.vector()\n",
    "    return vec.norm('l2')"
   ]
  },
  {
   "cell_type": "code",
   "execution_count": 2,
   "metadata": {},
   "outputs": [],
   "source": [
    "def normalise(func, **kwargs):\n",
    "    annotate = pya.annotate_tape(kwargs)\n",
    "\n",
    "    if annotate:\n",
    "        tape = dfa.get_working_tape()\n",
    "        block = LogPcfBlock(func)\n",
    "        tape.add_block(block)\n",
    "\n",
    "    with pya.stop_annotating():\n",
    "        output = backend_normalise(func, **kwargs)\n",
    "\n",
    "    output = dfa.types.create_overloaded_object(output)\n",
    "\n",
    "    if annotate:\n",
    "        block.add_output(output.create_block_variable())\n",
    "\n",
    "    return output"
   ]
  },
  {
   "cell_type": "code",
   "execution_count": 3,
   "metadata": {},
   "outputs": [],
   "source": [
    "class LogPcfBlock(pya.Block):\n",
    "    def __init__(self, func, **kwargs):\n",
    "        super(LogPcfBlock, self).__init__()\n",
    "        self.kwargs = kwargs\n",
    "        self.add_dependency(func.block_variable)\n",
    "\n",
    "    def __str__(self):\n",
    "        return 'NormaliseBlock'\n",
    "\n",
    "    def evaluate_adj(self):\n",
    "        \n",
    "        adj_input = self.get_outputs()[0].adj_value\n",
    "        dependency = self.get_dependencies()[0]\n",
    "        x = dependency.saved_output.vector()\n",
    "\n",
    "        adj_output = x.copy()\n",
    "\n",
    "        xnorm = x.norm('l2')\n",
    "\n",
    "        const = 0\n",
    "        for i in range(len(x)):\n",
    "            const += adj_input[i][0]*x[i][0]\n",
    "        const /= xnorm**3\n",
    "\n",
    "        for i in range(len(x)):\n",
    "            adj_output[i] = adj_input[i][0]/xnorm - const*x[i][0]\n",
    "        dependency.add_adj_output(adj_output)\n",
    "\n",
    "    def recompute(self):\n",
    "        dependencies = self.get_dependencies()\n",
    "        func = dependencies[0].saved_output\n",
    "        output = backend_normalise(func)\n",
    "        self.get_outputs()[0].checkpoint = output\n",
    "        "
   ]
  },
  {
   "cell_type": "code",
   "execution_count": 4,
   "metadata": {},
   "outputs": [
    {
     "name": "stdout",
     "output_type": "stream",
     "text": [
      "This integral is missing an integration domain.\n"
     ]
    },
    {
     "ename": "UFLException",
     "evalue": "This integral is missing an integration domain.",
     "output_type": "error",
     "traceback": [
      "\u001b[0;31m---------------------------------------------------------------------------\u001b[0m",
      "\u001b[0;31mUFLException\u001b[0m                              Traceback (most recent call last)",
      "\u001b[0;32m<ipython-input-4-0fee9d6adcff>\u001b[0m in \u001b[0;36m<module>\u001b[0;34m()\u001b[0m\n\u001b[1;32m      5\u001b[0m \u001b[0mg\u001b[0m \u001b[0;34m=\u001b[0m \u001b[0mnormalise\u001b[0m\u001b[0;34m(\u001b[0m\u001b[0mf\u001b[0m\u001b[0;34m)\u001b[0m\u001b[0;34m\u001b[0m\u001b[0m\n\u001b[1;32m      6\u001b[0m \u001b[0;34m\u001b[0m\u001b[0m\n\u001b[0;32m----> 7\u001b[0;31m \u001b[0mJ\u001b[0m \u001b[0;34m=\u001b[0m \u001b[0mdfa\u001b[0m\u001b[0;34m.\u001b[0m\u001b[0massemble\u001b[0m\u001b[0;34m(\u001b[0m\u001b[0mg\u001b[0m\u001b[0;34m*\u001b[0m\u001b[0mdf\u001b[0m\u001b[0;34m.\u001b[0m\u001b[0mdx\u001b[0m\u001b[0;34m)\u001b[0m\u001b[0;34m\u001b[0m\u001b[0m\n\u001b[0m\u001b[1;32m      8\u001b[0m \u001b[0;34m\u001b[0m\u001b[0m\n\u001b[1;32m      9\u001b[0m \u001b[0mh\u001b[0m \u001b[0;34m=\u001b[0m \u001b[0mdfa\u001b[0m\u001b[0;34m.\u001b[0m\u001b[0mFunction\u001b[0m\u001b[0;34m(\u001b[0m\u001b[0mV\u001b[0m\u001b[0;34m)\u001b[0m\u001b[0;34m\u001b[0m\u001b[0m\n",
      "\u001b[0;32m~/.conda/envs/pyadjoint/lib/python3.5/site-packages/ufl/measure.py\u001b[0m in \u001b[0;36m__rmul__\u001b[0;34m(self, integrand)\u001b[0m\n\u001b[1;32m    444\u001b[0m                 \u001b[0mdomain\u001b[0m\u001b[0;34m,\u001b[0m \u001b[0;34m=\u001b[0m \u001b[0mdomains\u001b[0m\u001b[0;34m\u001b[0m\u001b[0m\n\u001b[1;32m    445\u001b[0m             \u001b[0;32melif\u001b[0m \u001b[0mlen\u001b[0m\u001b[0;34m(\u001b[0m\u001b[0mdomains\u001b[0m\u001b[0;34m)\u001b[0m \u001b[0;34m==\u001b[0m \u001b[0;36m0\u001b[0m\u001b[0;34m:\u001b[0m\u001b[0;34m\u001b[0m\u001b[0m\n\u001b[0;32m--> 446\u001b[0;31m                 \u001b[0merror\u001b[0m\u001b[0;34m(\u001b[0m\u001b[0;34m\"This integral is missing an integration domain.\"\u001b[0m\u001b[0;34m)\u001b[0m\u001b[0;34m\u001b[0m\u001b[0m\n\u001b[0m\u001b[1;32m    447\u001b[0m             \u001b[0;32melse\u001b[0m\u001b[0;34m:\u001b[0m\u001b[0;34m\u001b[0m\u001b[0m\n\u001b[1;32m    448\u001b[0m                 \u001b[0merror\u001b[0m\u001b[0;34m(\u001b[0m\u001b[0;34m\"Multiple domains found, making the choice of integration domain ambiguous.\"\u001b[0m\u001b[0;34m)\u001b[0m\u001b[0;34m\u001b[0m\u001b[0m\n",
      "\u001b[0;32m~/.conda/envs/pyadjoint/lib/python3.5/site-packages/ufl/log.py\u001b[0m in \u001b[0;36merror\u001b[0;34m(self, *message)\u001b[0m\n\u001b[1;32m    170\u001b[0m         \u001b[0;34m\"Write error message and raise an exception.\"\u001b[0m\u001b[0;34m\u001b[0m\u001b[0m\n\u001b[1;32m    171\u001b[0m         \u001b[0mself\u001b[0m\u001b[0;34m.\u001b[0m\u001b[0m_log\u001b[0m\u001b[0;34m.\u001b[0m\u001b[0merror\u001b[0m\u001b[0;34m(\u001b[0m\u001b[0;34m*\u001b[0m\u001b[0mmessage\u001b[0m\u001b[0;34m)\u001b[0m\u001b[0;34m\u001b[0m\u001b[0m\n\u001b[0;32m--> 172\u001b[0;31m         \u001b[0;32mraise\u001b[0m \u001b[0mself\u001b[0m\u001b[0;34m.\u001b[0m\u001b[0m_exception_type\u001b[0m\u001b[0;34m(\u001b[0m\u001b[0mself\u001b[0m\u001b[0;34m.\u001b[0m\u001b[0m_format_raw\u001b[0m\u001b[0;34m(\u001b[0m\u001b[0;34m*\u001b[0m\u001b[0mmessage\u001b[0m\u001b[0;34m)\u001b[0m\u001b[0;34m)\u001b[0m\u001b[0;34m\u001b[0m\u001b[0m\n\u001b[0m\u001b[1;32m    173\u001b[0m \u001b[0;34m\u001b[0m\u001b[0m\n\u001b[1;32m    174\u001b[0m     \u001b[0;32mdef\u001b[0m \u001b[0mbegin\u001b[0m\u001b[0;34m(\u001b[0m\u001b[0mself\u001b[0m\u001b[0;34m,\u001b[0m \u001b[0;34m*\u001b[0m\u001b[0mmessage\u001b[0m\u001b[0;34m)\u001b[0m\u001b[0;34m:\u001b[0m\u001b[0;34m\u001b[0m\u001b[0m\n",
      "\u001b[0;31mUFLException\u001b[0m: This integral is missing an integration domain."
     ]
    }
   ],
   "source": [
    "mesh = df.UnitSquareMesh(10, 10)\n",
    "V = dfa.FunctionSpace(mesh, 'CG', 1)\n",
    "\n",
    "f = dfa.project(dfa.Expression('x[0]*x[1]', degree=1), V)\n",
    "g = normalise(f)\n",
    "\n",
    "J = dfa.assemble(g*df.dx)\n",
    "\n",
    "h = dfa.Function(V)\n",
    "h.vector()[:] = 0.1\n",
    "RF = dfa.ReducedFunctional(J, dfa.Control(f))\n",
    "grad = RF.derivative()\n",
    "grad_np = grad.vector().get_local()\n",
    "dfa.taylor_test(RF, f, h)"
   ]
  },
  {
   "cell_type": "code",
   "execution_count": null,
   "metadata": {},
   "outputs": [],
   "source": [
    "# Define Dirichlet boundary (x = 0 or x = 1)\n",
    "def boundary(x):\n",
    "    return x[0] < df.DOLFIN_EPS or x[0] > 1.0 - df.DOLFIN_EPS\n",
    "\n",
    "# Define boundary condition\n",
    "u0 = dfa.Constant(0.0)\n",
    "bc = dfa.DirichletBC(V, u0, boundary)\n",
    "\n",
    "# Define variational problem\n",
    "u = df.TrialFunction(V)\n",
    "v = df.TestFunction(V)\n",
    "fe = dfa.Expression(\"10*exp(-(pow(x[0] - 0.5, 2) + pow(x[1] - 0.5, 2)) / 0.02)\", degree=2)\n",
    "f = dfa.project(fe, V)\n",
    "g = dfa.Expression(\"sin(5*x[0])\", degree=2)\n",
    "a = df.inner(df.grad(u), df.grad(v))*df.dx\n",
    "L = f*v*df.dx + g*v*df.ds\n",
    "\n",
    "# Compute solution\n",
    "u = dfa.Function(V)\n",
    "dfa.solve(a == L, u, bc)"
   ]
  },
  {
   "cell_type": "code",
   "execution_count": null,
   "metadata": {},
   "outputs": [],
   "source": [
    "un = normalise(u)"
   ]
  },
  {
   "cell_type": "code",
   "execution_count": null,
   "metadata": {
    "scrolled": true
   },
   "outputs": [],
   "source": [
    "RF = pya.ReducedFunctional(un, pya.Control(f))\n",
    "grad = RF.derivative()"
   ]
  },
  {
   "cell_type": "code",
   "execution_count": null,
   "metadata": {},
   "outputs": [],
   "source": [
    "grad_np = grad.vector().get_local()\n",
    "plt.plot(grad_np)"
   ]
  },
  {
   "cell_type": "code",
   "execution_count": null,
   "metadata": {},
   "outputs": [],
   "source": []
  },
  {
   "cell_type": "code",
   "execution_count": null,
   "metadata": {},
   "outputs": [],
   "source": []
  }
 ],
 "metadata": {
  "kernelspec": {
   "display_name": "Python [conda env:pyadjoint]",
   "language": "python",
   "name": "conda-env-pyadjoint-py"
  },
  "language_info": {
   "codemirror_mode": {
    "name": "ipython",
    "version": 3
   },
   "file_extension": ".py",
   "mimetype": "text/x-python",
   "name": "python",
   "nbconvert_exporter": "python",
   "pygments_lexer": "ipython3",
   "version": "3.5.5"
  }
 },
 "nbformat": 4,
 "nbformat_minor": 2
}
