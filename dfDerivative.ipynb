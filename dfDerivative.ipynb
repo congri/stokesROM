{
 "cells": [
  {
   "cell_type": "code",
   "execution_count": 1,
   "metadata": {},
   "outputs": [],
   "source": [
    "import dolfin as df\n",
    "import numpy as np\n",
    "import matplotlib.pyplot as plt\n",
    "import scipy.sparse as sp\n",
    "%matplotlib inline"
   ]
  },
  {
   "cell_type": "code",
   "execution_count": 2,
   "metadata": {},
   "outputs": [
    {
     "name": "stdout",
     "output_type": "stream",
     "text": [
      "[ 12.    7.    9.5   2.    7.   12.    4.5   7.    2. ]\n"
     ]
    }
   ],
   "source": [
    "# Create mesh and define function space\n",
    "mesh = df.UnitSquareMesh(2, 2)\n",
    "V = df.FunctionSpace(mesh, 'CG', 1)\n",
    "Vc = df.FunctionSpace(mesh,'DG', 0)\n",
    "\n",
    "# Define Dirichlet boundary (x = 0 or x = 1)\n",
    "def dirichletBoundary(x):\n",
    "    return x[0] < df.DOLFIN_EPS or x[0] > 1.0 -df.DOLFIN_EPS\n",
    "\n",
    "# Define Dirichlet boundary condition\n",
    "u0 = df.Expression('10.0*x[1] + 2.0', degree=1)\n",
    "bc = df.DirichletBC(V, u0, dirichletBoundary, method='pointwise')\n",
    "\n",
    "#Define Neumann boundary condition\n",
    "u_x = '0.0-2.0*x[1]'\n",
    "u_y = '1.0-2.0*x[0]'\n",
    "flowField = df.Expression((u_x, u_y), degree=2)\n",
    "bcFlux = df.inner(df.FacetNormal(mesh), flowField)\n",
    "\n",
    "#Heat source\n",
    "sourceTerm = df.Expression('0.0', degree=1)\n",
    "\n",
    "\n",
    "theta = df.Function(Vc)\n",
    "theta.vector()[:] = 1 + np.abs(np.random.normal(0,0.0,Vc.dim()))\n",
    "\n",
    "# Define variational problem\n",
    "u = df.TrialFunction(V)\n",
    "v = df.TestFunction(V)\n",
    "#f = df.Expression(\"10*exp(-(pow(x[0] - 0.5, 2) + pow(x[1] - 0.5, 2)) / 0.02)\",degree=2)\n",
    "#a = theta * df.inner(df.grad(u), df.grad(v))*df.dx\n",
    "#L = f * v * df.dx\n",
    "\n",
    "a = theta * df.inner(df.grad(v), df.grad(u)) * df.dx\n",
    "L = sourceTerm * v * df.dx + bcFlux * v * df.ds\n",
    "\n",
    "# Compute solution\n",
    "u = df.Function(V)\n",
    "df.solve(a == L, u, bc)\n",
    "\n",
    "print(u.vector().get_local())"
   ]
  },
  {
   "cell_type": "code",
   "execution_count": 3,
   "metadata": {},
   "outputs": [],
   "source": [
    "# For repeated finite difference evaluation\n",
    "def ForwardSolver(x):\n",
    "    \n",
    "    uu = df.TrialFunction(V)\n",
    "    vv = df.TestFunction(V)\n",
    "    thetal = df.Function(Vc)\n",
    "    thetal.vector()[:] = x\n",
    "    aa = thetal * df.inner(df.grad(uu), df.grad(vv)) * df.dx\n",
    "    LL = sourceTerm * vv * df.dx + bcFlux * vv * df.ds\n",
    "    uu = df.Function(V)\n",
    "    df.solve(aa == LL, uu, bc)\n",
    "    return uu.vector().get_local()"
   ]
  },
  {
   "cell_type": "code",
   "execution_count": 4,
   "metadata": {},
   "outputs": [
    {
     "data": {
      "text/plain": [
       "<matplotlib.colorbar.Colorbar at 0x7f43723810f0>"
      ]
     },
     "execution_count": 4,
     "metadata": {},
     "output_type": "execute_result"
    },
    {
     "data": {
      "image/png": "[encoded data removed]",
      "text/plain": [
       "<Figure size 432x288 with 2 Axes>"
      ]
     },
     "metadata": {},
     "output_type": "display_data"
    }
   ],
   "source": [
    "# Plot of solution\n",
    "pu = df.plot(u)\n",
    "plt.colorbar(pu)"
   ]
  },
  {
   "cell_type": "code",
   "execution_count": 5,
   "metadata": {},
   "outputs": [],
   "source": [
    "# Make up bogus functional\n",
    "#H = np.random.normal(0,1,(V.dim(), V.dim()))\n",
    "#H = H + H.T + np.eye(V.dim())\n",
    "H = np.eye(V.dim())\n",
    "\n",
    "# A functional of the solution which by construction has H as the Hessian\n",
    "def Functional(x):\n",
    "    return - 0.5 * x.dot(H.dot(x))"
   ]
  },
  {
   "cell_type": "code",
   "execution_count": 6,
   "metadata": {},
   "outputs": [],
   "source": [
    "# Get Finite Difference Vector\n",
    "h = 1e-6\n",
    "\n",
    "x0 = theta.vector().get_local()\n",
    "grad_fd = np.zeros(Vc.dim())\n",
    "\n",
    "for i in range(Vc.dim()):\n",
    "    xp = x0.copy()\n",
    "    xm = x0.copy()\n",
    "    \n",
    "    xp[i] = xp[i] + h\n",
    "    xm[i] = xm[i] - h\n",
    "        \n",
    "    upv = ForwardSolver(xp)\n",
    "    Lp = Functional(upv)\n",
    "    \n",
    "    upm = ForwardSolver(xm)\n",
    "    Lm = Functional(upm)\n",
    "    \n",
    "    grad_fd[i] = (Lp - Lm)/(2*h)"
   ]
  },
  {
   "cell_type": "code",
   "execution_count": 7,
   "metadata": {
    "scrolled": true
   },
   "outputs": [
    {
     "name": "stdout",
     "output_type": "stream",
     "text": [
      "K =  [[ 1.   0.   0.   0.   0.   0.   0.   0.   0. ]\n",
      " [ 0.   1.   0.   0.   0.   0.   0.   0.   0. ]\n",
      " [-0.5  0.   2.   0.  -1.  -0.5  0.   0.   0. ]\n",
      " [ 0.   0.   0.   1.   0.   0.   0.   0.   0. ]\n",
      " [ 0.  -1.  -1.   0.   4.   0.  -1.  -1.   0. ]\n",
      " [ 0.   0.   0.   0.   0.   1.   0.   0.   0. ]\n",
      " [ 0.   0.   0.  -0.5 -1.   0.   2.   0.  -0.5]\n",
      " [ 0.   0.   0.   0.   0.   0.   0.   1.   0. ]\n",
      " [ 0.   0.   0.   0.   0.   0.   0.   0.   1. ]]\n",
      "adjoints ==  [-15.54166667 -11.66666667  -7.08333333  -4.29166667  -4.66666667\n",
      " -15.54166667  -4.58333333 -11.66666667  -4.29166667]\n"
     ]
    }
   ],
   "source": [
    "# derivative of residual wrt u\n",
    "K = df.assemble(a)\n",
    "\n",
    "# we need to apply boundary condition to K\n",
    "bc.apply(K)\n",
    "K = K.array()\n",
    "print('K = ', K)\n",
    "\n",
    "# derivative of functional wrt u\n",
    "b = -H.dot(u.vector().get_local())\n",
    "\n",
    "# get adjoints\n",
    "adjoints = np.linalg.solve(K.T, b)"
   ]
  },
  {
   "cell_type": "markdown",
   "metadata": {},
   "source": [
    "We compute finite difference gradients for the stiffness matrix K. K is linear in theta, i.e. finite difference gradients are exact and constant.\n",
    "\n",
    "We later use them in the adjoint equation\n",
    "$dJ/d\\theta_i = \\lambda^T(\\frac{dF}{d\\theta_i} - \\frac{dK}{d\\theta_i} u)$, where\n",
    "\n",
    "$\\lambda = K^{-T} \\nabla_u J$ and\n",
    "\n",
    "$Ku - F = 0$ the FEM equation system."
   ]
  },
  {
   "cell_type": "code",
   "execution_count": 8,
   "metadata": {},
   "outputs": [],
   "source": [
    "h = 1e-4\n",
    "d_K_list = []\n",
    "grad_K_fd = np.zeros(Vc.dim())\n",
    "theta_0 = theta.vector().get_local().copy()\n",
    "for i in range(0, Vc.dim()):\n",
    "    theta_temp = df.Function(Vc)\n",
    "    theta_temp_vec = theta_0.copy()\n",
    "    theta_temp_vec[i] += h\n",
    "    theta_temp.vector().set_local(theta_temp_vec)\n",
    "    w = df.TrialFunction(V)\n",
    "    a_temp = theta_temp * df.inner(df.grad(v), df.grad(w)) * df.dx\n",
    "    K_temp = df.assemble(a_temp)\n",
    "\n",
    "    # we need to apply boundary condition to finite difference K\n",
    "    bc.apply(K_temp)\n",
    "    K_temp = K_temp.array()\n",
    "    d_K_temp = (K_temp - K)/h\n",
    "    d_K_list.append(d_K_temp)\n",
    "    d_i = - adjoints.dot(d_K_temp)\n",
    "    grad_K_fd[i] = d_i.dot(u.vector().get_local())\n",
    "#print('dK_dtheta0 = ', d_K_list[0])"
   ]
  },
  {
   "cell_type": "code",
   "execution_count": 9,
   "metadata": {
    "scrolled": true
   },
   "outputs": [
    {
     "name": "stdout",
     "output_type": "stream",
     "text": [
      "d_K ==  [[ 0.   0.   0.   0.   0.   0.   0.   0.   0. ]\n",
      " [ 0.   0.   0.   0.   0.   0.   0.   0.   0. ]\n",
      " [ 0.   0.   1.   0.  -0.5 -0.5  0.   0.   0. ]\n",
      " [ 0.   0.   0.   0.   0.   0.   0.   0.   0. ]\n",
      " [ 0.   0.  -0.5  0.   0.5  0.   0.   0.   0. ]\n",
      " [ 0.   0.   0.   0.   0.   0.   0.   0.   0. ]\n",
      " [ 0.   0.   0.   0.   0.   0.   0.   0.   0. ]\n",
      " [ 0.   0.   0.   0.   0.   0.   0.   0.   0. ]\n",
      " [ 0.   0.   0.   0.   0.   0.   0.   0.   0. ]]\n",
      "(9, 9)\n",
      "685 ns ± 10.2 ns per loop (mean ± std. dev. of 7 runs, 1000000 loops each)\n",
      "6.94 µs ± 41.7 ns per loop (mean ± std. dev. of 7 runs, 100000 loops each)\n",
      "5.85 µs ± 61.4 ns per loop (mean ± std. dev. of 7 runs, 100000 loops each)\n",
      "5.87 µs ± 87.7 ns per loop (mean ± std. dev. of 7 runs, 100000 loops each)\n"
     ]
    }
   ],
   "source": [
    "print('d_K == ', d_K_temp)\n",
    "print(d_K_temp.shape)\n",
    "d_K_coo = sp.coo_matrix(d_K_temp)\n",
    "d_K_csr = sp.csr_matrix(d_K_temp)\n",
    "d_K_csc = sp.csc_matrix(d_K_temp)\n",
    "%timeit d_K_temp.dot(adjoints)\n",
    "%timeit d_K_coo.dot(adjoints)\n",
    "%timeit d_K_csr.dot(adjoints)\n",
    "%timeit d_K_csc.dot(adjoints)"
   ]
  },
  {
   "cell_type": "markdown",
   "metadata": {},
   "source": [
    "$dK/d\\theta_0$:"
   ]
  },
  {
   "cell_type": "markdown",
   "metadata": {},
   "source": [
    "d1 $= dK/d\\theta_0$. It is the correct one, i.e. identical to the f.d. gradient below."
   ]
  },
  {
   "cell_type": "code",
   "execution_count": 10,
   "metadata": {},
   "outputs": [],
   "source": [
    "# derivative of r wrt theta\n",
    "# the trick is that here we are not using u as trial functions, but instead as function\n",
    "r = theta * df.inner(df.grad(u), df.grad(v)) * df.dx    # the part of the residual that depends on theta"
   ]
  },
  {
   "cell_type": "code",
   "execution_count": 11,
   "metadata": {
    "scrolled": true
   },
   "outputs": [
    {
     "name": "stdout",
     "output_type": "stream",
     "text": [
      "dr_dtheta =  [[  0.00000000e+00   0.00000000e+00   0.00000000e+00   0.00000000e+00\n",
      "    0.00000000e+00   3.75000000e+00   0.00000000e+00   0.00000000e+00]\n",
      " [  0.00000000e+00   2.50000000e+00   0.00000000e+00   0.00000000e+00\n",
      "   -4.44089210e-16  -2.50000000e+00   0.00000000e+00   0.00000000e+00]\n",
      " [  0.00000000e+00   0.00000000e+00   0.00000000e+00   0.00000000e+00\n",
      "    1.25000000e+00  -1.25000000e+00   0.00000000e+00  -4.44089210e-16]\n",
      " [ -1.25000000e+00  -2.50000000e+00   0.00000000e+00   0.00000000e+00\n",
      "    0.00000000e+00   0.00000000e+00   0.00000000e+00   0.00000000e+00]\n",
      " [  1.25000000e+00   4.44089210e-16   0.00000000e+00   1.25000000e+00\n",
      "   -1.25000000e+00   0.00000000e+00   4.44089210e-16  -1.25000000e+00]\n",
      " [  0.00000000e+00   0.00000000e+00   0.00000000e+00   0.00000000e+00\n",
      "    0.00000000e+00   0.00000000e+00   2.50000000e+00   1.25000000e+00]\n",
      " [ -4.44089210e-16   0.00000000e+00   1.25000000e+00  -1.25000000e+00\n",
      "    0.00000000e+00   0.00000000e+00   0.00000000e+00   0.00000000e+00]\n",
      " [  0.00000000e+00   0.00000000e+00   2.50000000e+00  -4.44089210e-16\n",
      "    0.00000000e+00   0.00000000e+00  -2.50000000e+00   0.00000000e+00]\n",
      " [  0.00000000e+00   0.00000000e+00  -3.75000000e+00   0.00000000e+00\n",
      "    0.00000000e+00   0.00000000e+00   0.00000000e+00   0.00000000e+00]]\n"
     ]
    }
   ],
   "source": [
    "dr_dtheta = df.assemble(df.derivative(r, theta))\n",
    "#bc.apply(dr_dtheta)\n",
    "dr_dtheta = dr_dtheta.array()\n",
    "print('dr_dtheta = ', dr_dtheta)"
   ]
  },
  {
   "cell_type": "code",
   "execution_count": 12,
   "metadata": {},
   "outputs": [],
   "source": [
    "grad_adjoint = - adjoints.dot(dr_dtheta)"
   ]
  },
  {
   "cell_type": "code",
   "execution_count": 13,
   "metadata": {},
   "outputs": [
    {
     "name": "stdout",
     "output_type": "stream",
     "text": [
      "Relative Error (L2): 3.140741856531106\n"
     ]
    }
   ],
   "source": [
    "print(\"Relative Error (L2): {}\".format(np.linalg.norm(grad_fd - grad_adjoint)/np.linalg.norm(grad_fd)))"
   ]
  },
  {
   "cell_type": "code",
   "execution_count": 14,
   "metadata": {},
   "outputs": [
    {
     "data": {
      "image/png": "[encoded data removed]",
      "text/plain": [
       "<Figure size 432x288 with 1 Axes>"
      ]
     },
     "metadata": {},
     "output_type": "display_data"
    }
   ],
   "source": [
    "plt.plot(grad_fd)\n",
    "plt.plot(grad_K_fd)\n",
    "plt.plot(grad_adjoint,'r--')\n",
    "plt.title('Gradient wrt theta');"
   ]
  },
  {
   "cell_type": "code",
   "execution_count": 15,
   "metadata": {},
   "outputs": [
    {
     "name": "stdout",
     "output_type": "stream",
     "text": [
      "fd_grad =  [ 5.83333332  0.          5.72916667  0.10416667  3.0208333  -8.85416662\n",
      "  0.         -5.83333338]\n",
      "grad_K_fd =  [  5.83333333e+00   3.55271368e-15   5.72916667e+00   1.04166667e-01\n",
      "   3.02083333e+00  -8.85416667e+00   3.55271368e-15  -5.83333333e+00]\n",
      "grad =  [  0.46875     18.4375      18.80208333   0.10416667   3.02083333\n",
      "  20.26041667   9.6875      13.59375   ]\n",
      "rel. grad =  [ 0.08035714         inf  3.28181818  0.99999993  1.00000001 -2.28823531\n",
      "         inf -2.33035713]\n"
     ]
    },
    {
     "name": "stderr",
     "output_type": "stream",
     "text": [
      "/home/constantin/.conda/envs/pyadjoint/lib/python3.5/site-packages/ipykernel/__main__.py:4: RuntimeWarning: divide by zero encountered in true_divide\n"
     ]
    }
   ],
   "source": [
    "print('fd_grad = ', grad_fd)\n",
    "print('grad_K_fd = ', grad_K_fd)\n",
    "print('grad = ', grad_adjoint)\n",
    "print('rel. grad = ', grad_adjoint/grad_fd)\n"
   ]
  },
  {
   "cell_type": "code",
   "execution_count": 46,
   "metadata": {},
   "outputs": [
    {
     "name": "stdout",
     "output_type": "stream",
     "text": [
      "0.125\n",
      "True\n"
     ]
    }
   ],
   "source": [
    "cll = df.Cell(mesh, 0)\n",
    "print(cll.volume())\n",
    "a = np.array([.1, .1])\n",
    "pt = df.Point(a)\n",
    "print(cll.contains(pt))"
   ]
  },
  {
   "cell_type": "code",
   "execution_count": 50,
   "metadata": {},
   "outputs": [
    {
     "data": {
      "text/plain": [
       "<matplotlib.colorbar.Colorbar at 0x7f4371f047b8>"
      ]
     },
     "execution_count": 50,
     "metadata": {},
     "output_type": "execute_result"
    },
    {
     "data": {
      "image/png": "[encoded data removed]",
      "text/plain": [
       "<Figure size 432x288 with 2 Axes>"
      ]
     },
     "metadata": {},
     "output_type": "display_data"
    }
   ],
   "source": [
    "constFun = df.Function(Vc)\n",
    "constFun.vector()[0] = 1.0\n",
    "pl = df.plot(constFun)\n",
    "plt.colorbar(pl)"
   ]
  },
  {
   "cell_type": "code",
   "execution_count": null,
   "metadata": {},
   "outputs": [],
   "source": []
  },
  {
   "cell_type": "code",
   "execution_count": null,
   "metadata": {},
   "outputs": [],
   "source": []
  },
  {
   "cell_type": "code",
   "execution_count": null,
   "metadata": {},
   "outputs": [],
   "source": []
  },
  {
   "cell_type": "code",
   "execution_count": null,
   "metadata": {},
   "outputs": [],
   "source": []
  },
  {
   "cell_type": "code",
   "execution_count": null,
   "metadata": {},
   "outputs": [],
   "source": []
  }
 ],
 "metadata": {
  "kernelspec": {
   "display_name": "Python [conda env:pyadjoint]",
   "language": "python",
   "name": "conda-env-pyadjoint-py"
  },
  "language_info": {
   "codemirror_mode": {
    "name": "ipython",
    "version": 3
   },
   "file_extension": ".py",
   "mimetype": "text/x-python",
   "name": "python",
   "nbconvert_exporter": "python",
   "pygments_lexer": "ipython3",
   "version": "3.5.5"
  }
 },
 "nbformat": 4,
 "nbformat_minor": 2
}
