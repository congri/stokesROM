{
 "cells": [
  {
   "cell_type": "code",
   "execution_count": 1,
   "metadata": {},
   "outputs": [
    {
     "name": "stdout",
     "output_type": "stream",
     "text": [
      "Current mesh number =  0\n",
      "Function before solve:  f_35\n",
      "Function after solve:  f_35\n",
      "Stokes PDE solved. Time:  42.70163035392761\n",
      "Current mesh number =  1\n",
      "Function before solve:  f_66\n",
      "Function after solve:  f_66\n",
      "Stokes PDE solved. Time:  58.89148426055908\n",
      "(Coefficient(FunctionSpace(Mesh(VectorElement(FiniteElement('Lagrange', triangle, 1), dim=2), 86), MixedElement(VectorElement(FiniteElement('Lagrange', triangle, 2), dim=2), FiniteElement('Lagrange', triangle, 1))), 92), <dolfin.cpp.mesh.Mesh; proxy of <Swig Object of type 'std::shared_ptr< dolfin::Mesh > *' at 0x7fa9ef2f8960> >)\n"
     ]
    },
    {
     "ename": "AttributeError",
     "evalue": "'tuple' object has no attribute 'split'",
     "output_type": "error",
     "traceback": [
      "\u001b[0;31m---------------------------------------------------------------------------\u001b[0m",
      "\u001b[0;31mAttributeError\u001b[0m                            Traceback (most recent call last)",
      "\u001b[0;32m<ipython-input-1-8a744bc68068>\u001b[0m in \u001b[0;36m<module>\u001b[0;34m()\u001b[0m\n\u001b[1;32m    289\u001b[0m \u001b[0mprint\u001b[0m\u001b[0;34m(\u001b[0m\u001b[0mstokesData\u001b[0m\u001b[0;34m.\u001b[0m\u001b[0msolution\u001b[0m\u001b[0;34m[\u001b[0m\u001b[0;36m1\u001b[0m\u001b[0;34m]\u001b[0m\u001b[0;34m)\u001b[0m\u001b[0;34m\u001b[0m\u001b[0m\n\u001b[1;32m    290\u001b[0m \u001b[0mU\u001b[0m \u001b[0;34m=\u001b[0m \u001b[0mstokesData\u001b[0m\u001b[0;34m.\u001b[0m\u001b[0msolution\u001b[0m\u001b[0;34m[\u001b[0m\u001b[0;36m1\u001b[0m\u001b[0;34m]\u001b[0m\u001b[0;34m\u001b[0m\u001b[0m\n\u001b[0;32m--> 291\u001b[0;31m \u001b[0mv\u001b[0m\u001b[0;34m,\u001b[0m \u001b[0mp\u001b[0m \u001b[0;34m=\u001b[0m \u001b[0mU\u001b[0m\u001b[0;34m.\u001b[0m\u001b[0msplit\u001b[0m\u001b[0;34m(\u001b[0m\u001b[0;34m)\u001b[0m\u001b[0;34m\u001b[0m\u001b[0m\n\u001b[0m\u001b[1;32m    292\u001b[0m \u001b[0mprint\u001b[0m\u001b[0;34m(\u001b[0m\u001b[0mp\u001b[0m\u001b[0;34m)\u001b[0m\u001b[0;34m\u001b[0m\u001b[0m\n\u001b[1;32m    293\u001b[0m \u001b[0mplt\u001b[0m\u001b[0;34m.\u001b[0m\u001b[0mfigure\u001b[0m\u001b[0;34m(\u001b[0m\u001b[0;34m)\u001b[0m\u001b[0;34m\u001b[0m\u001b[0m\n",
      "\u001b[0;31mAttributeError\u001b[0m: 'tuple' object has no attribute 'split'"
     ]
    }
   ],
   "source": [
    "\"\"\"This should be the main module for the python Stokes/Darcy problem.\n",
    "The code architecture still needs to be specified.\"\"\"\n",
    "\n",
    "import numpy as np\n",
    "import os\n",
    "import scipy.io as sio\n",
    "import time\n",
    "import matplotlib.pyplot as plt\n",
    "import dolfin as df\n",
    "import dolfin_adjoint as dfa\n",
    "import copy\n",
    "\n",
    "class FlowProblem:\n",
    "    \"\"\"Base class for Stokes and Darcy simulators. Put physical quantities affecting both here.\"\"\"\n",
    "    # boundary conditions, specified as dolfin expressions\n",
    "    # Flow boundary condition for velocity on domain boundary (avoid spaces for proper file path)\n",
    "    # should be of the form u = (a_x + a_xy y, a_y + a_xy x)\n",
    "    u_x = '0.0-2.0*x[1]'\n",
    "    u_y = '1.0-2.0*x[0]'\n",
    "    flowField = df.Expression((u_x, u_y), degree=2)\n",
    "    # Pressure boundary condition field\n",
    "    p_bc = '0.0'\n",
    "    pressureField = df.Expression(p_bc, degree=2)\n",
    "\n",
    "    bodyForce = df.Constant((0.0, 0.0))  # right hand side; how is this treated in Darcy?\n",
    "\n",
    "    class FlowBoundary(df.SubDomain):\n",
    "        def inside(self, x, on_boundary):\n",
    "            # SET FLOW BOUNDARIES HERE;\n",
    "            # pressure boundaries are the complementary boundary in Stokes and need to be specified below for Darcy\n",
    "            return x[1] > 1.0 - df.DOLFIN_EPS or (x[1] < df.DOLFIN_EPS and x[0] > df.DOLFIN_EPS) or \\\n",
    "                   x[0] > 1.0 - df.DOLFIN_EPS or (x[0] < df.DOLFIN_EPS and x[1] > df.DOLFIN_EPS)\n",
    "    flowBoundary = FlowBoundary()\n",
    "\n",
    "    class PressureBoundary(df.SubDomain):\n",
    "        def inside(self, x, on_boundary):\n",
    "            # Set pressure boundaries here\n",
    "            return (x[0] < df.DOLFIN_EPS and x[1] < df.DOLFIN_EPS)\n",
    "    pressureBoundary = PressureBoundary()\n",
    "\n",
    "\n",
    "class StokesData(FlowProblem):\n",
    "    # Properties\n",
    "\n",
    "    folderbase = '/home/constantin/cluster'\n",
    "\n",
    "    # All data parameters specified here\n",
    "    medium = 'nonOverlappingDisks'  # circles or randomField\n",
    "\n",
    "    # physical parameters\n",
    "    viscosity = 1.0\n",
    "\n",
    "    # general parameters\n",
    "    meshes = np.arange(0, 2)                       # vector of random meshes to load\n",
    "    nElements = 128\n",
    "\n",
    "    # microstructure parameters\n",
    "    nExclusionsDist = 'logn'                        # number of exclusions distribution\n",
    "    nExclusionParams = (5.5, 1.0)                   # for logn: mu and sigma of logn dist.\n",
    "    coordDist = 'gauss'                             # distribution of circ. exclusions in space\n",
    "    coord_mu = [.7, .3]\n",
    "    coord_cov = [[0.2, 0.0], [0.0, 0.3]]            # covariance of spatial disk distribution\n",
    "    radiiDist = 'logn'                              # dist. of disk radii\n",
    "    rParams = (-4.5, 0.7)                           # mu and sigma of disk radii distribution\n",
    "    margins = (0.01, 0.01, 0.01, 0.01)              # margins of exclusions to boundaries\n",
    "    interiorBCtype = 'noslip'                       # Boundary condition on exclusion boundary\n",
    "\n",
    "    # data storage\n",
    "    mesh = []\n",
    "    solution = []\n",
    "\n",
    "\n",
    "    def __init__(self):\n",
    "        # Constructor\n",
    "        self.setFineDataPath()\n",
    "        return\n",
    "\n",
    "    def setFineDataPath(self):\n",
    "        # set up finescale data path\n",
    "        self.foldername = self.folderbase + '/python/data/stokesEquation/meshSize=' + str(self.nElements) + '/' \\\n",
    "                     + self.medium + '/margins=' + str(self.margins[0]) + '_' + str(self.margins[1]) + '_' \\\n",
    "                     + str(self.margins[2]) + '_' + str(self.margins[3]) + '/N~' + self.nExclusionsDist\n",
    "        if self.nExclusionsDist == 'logn':\n",
    "            self.foldername += '/mu=' + str(self.nExclusionParams[0]) + '/sigma=' + str(self.nExclusionParams[1]) \\\n",
    "                          + '/x~' + self.coordDist\n",
    "\n",
    "        if self.coordDist == 'gauss':\n",
    "            self.foldername += '/mu=' + str(self.coord_mu[0]) + '_' + str(self.coord_mu[1]) + '/cov=' \\\n",
    "                          + str(self.coord_cov[0][0]) + '_' + str(self.coord_cov[0][1]) \\\n",
    "                          + '_' + str(self.coord_cov[1][1])\n",
    "\n",
    "        self.foldername += '/r~' + self.radiiDist + '/mu=' + str(self.rParams[0]) + '/sigma=' + str(self.rParams[1])\n",
    "        self.solutionfolder = self.foldername + '/p_bc=' + self.p_bc + '/u_x=' + self.u_x + '_u_y=' + self.u_y\n",
    "        return\n",
    "\n",
    "    def getFunctionSpace(self, mesh):\n",
    "        # Define mixed function space (Taylor-Hood)\n",
    "        u_e = df.VectorElement('CG', mesh.ufl_cell(), 2)\n",
    "        p_e = df.FiniteElement('CG', mesh.ufl_cell(), 1)\n",
    "        mixedEl = df.MixedElement([u_e, p_e])\n",
    "        functionSpace = df.FunctionSpace(mesh, mixedEl)\n",
    "        return functionSpace\n",
    "\n",
    "    def getInteriorBC(self, functionSpace):\n",
    "        # returns interior boundary bc for fenics\n",
    "\n",
    "        # Define interior boundaries\n",
    "        class InteriorBoundary(df.SubDomain):\n",
    "            def inside(self, x, on_boundary):\n",
    "                outerBoundary = x[1] > 1.0 - df.DOLFIN_EPS or x[1] < df.DOLFIN_EPS \\\n",
    "                                or x[0] > (1.0 - df.DOLFIN_EPS) or x[0] < df.DOLFIN_EPS\n",
    "                return on_boundary and not outerBoundary\n",
    "\n",
    "        # Initialize sub-domain instance for interior boundaries\n",
    "        interiorBoundary = InteriorBoundary()\n",
    "\n",
    "        # No-slip boundary condition for velocity on material interfaces\n",
    "        if self.interiorBCtype == 'noslip':\n",
    "            interiorBoundaryFlow = df.Constant((0.0, 0.0))\n",
    "        else:\n",
    "            raise ValueError('Unknown interior boundary condition.')\n",
    "\n",
    "        # Boundary conditions for solid phase\n",
    "        bc = df.DirichletBC(functionSpace.sub(0), interiorBoundaryFlow, interiorBoundary)\n",
    "        return bc\n",
    "\n",
    "    def getOuterBC(self, functionSpace):\n",
    "        # BC's on outer domain boundary\n",
    "        bc = df.DirichletBC(functionSpace.sub(0), self.flowField, self.flowBoundary)\n",
    "        return bc\n",
    "\n",
    "    def solvePDE(self, functionSpace, mesh, boundaryConditions):\n",
    "        # Define variational problem\n",
    "        (u, p) = df.TrialFunctions(functionSpace)\n",
    "        (v, q) = df.TestFunctions(functionSpace)\n",
    "        # get normal vectors\n",
    "        n = df.FacetNormal(mesh)\n",
    "        a = self.viscosity * df.inner(df.grad(u), df.grad(v)) * df.dx + df.div(v) * p * df.dx + q * df.div(u) * df.dx\n",
    "        L = df.inner(self.bodyForce, v) * df.dx + self.pressureField * df.inner(n, v) * df.ds\n",
    "\n",
    "        # Form for use in constructing preconditioner matrix\n",
    "        b = df.inner(df.grad(u), df.grad(v)) * df.dx + p * q * df.dx\n",
    "\n",
    "        # Assemble system\n",
    "        A, bb = df.assemble_system(a, L, boundaryConditions)\n",
    "\n",
    "        # Assemble preconditioner system\n",
    "        P, btmp = df.assemble_system(b, L, boundaryConditions)\n",
    "\n",
    "        # Test for PETSc or Epetra\n",
    "        if not df.has_linear_algebra_backend(\"PETSc\") and not df.has_linear_algebra_backend(\"Epetra\"):\n",
    "            df.info(\"DOLFIN has not been configured with Trilinos or PETSc. Exiting.\")\n",
    "            exit()\n",
    "\n",
    "        if df.has_krylov_solver_method(\"minres\"):\n",
    "            krylov_method = \"minres\"\n",
    "        elif df.has_krylov_solver_method(\"tfqmr\"):\n",
    "            krylov_method = \"tfqmr\"\n",
    "        else:\n",
    "            df.info(\"Default linear algebra backend was not compiled with MINRES or TFQMR \"\n",
    "                    \"Krylov subspace method. Terminating.\")\n",
    "            exit()\n",
    "\n",
    "        # Create Krylov solver and AMG preconditioner\n",
    "        solver = df.KrylovSolver(krylov_method)\n",
    "\n",
    "        # Associate operator (A) and preconditioner matrix (P)\n",
    "        solver.set_operators(A, P)\n",
    "\n",
    "        # Solve\n",
    "        U = df.Function(functionSpace)\n",
    "        print('Function before solve: ', U)\n",
    "        solver.solve(U.vector(), bb)\n",
    "        print('Function after solve: ', U)\n",
    "        return U\n",
    "\n",
    "    def loadMesh(self, meshNumber):\n",
    "        # load mesh from file\n",
    "        mesh = df.Mesh(self.foldername + '/mesh' + str(meshNumber) + '.xml')\n",
    "        return mesh\n",
    "\n",
    "    '''\n",
    "    def loadSolution(self, meshNumber):\n",
    "        mesh = self.loadMesh(meshNumber)\n",
    "        functionSpace = self.getFunctionSpace(mesh)\n",
    "        solution = df.Function(functionSpace)\n",
    "        print('Initialized solution: ', solution)\n",
    "        solution.vector()[:] = np.load(self.solutionfolder + '/solution' + str(meshNumber) + '.npy')\n",
    "        print('Loaded solution: ', solution)\n",
    "        return solution, mesh, functionSpace\n",
    "\n",
    "    def saveSolution(self, solutionFunction, mesh, meshNumber, type='matlab'):\n",
    "        # Save solution to mat file for easy read-in in matlab\n",
    "        if not os.path.exists(self.solutionfolder):\n",
    "            os.makedirs(self.solutionfolder)\n",
    "\n",
    "        if type == 'matlab':\n",
    "            # Get sub-functions\n",
    "            u, p = solutionFunction.split()\n",
    "            # Attention: this saves vertex values, not shape function coefficients\n",
    "            sio.savemat(self.solutionfolder + '/solution' + str(meshNumber) + '.mat',\n",
    "                    {'u': np.reshape(u.compute_vertex_values(), (2, -1)), 'p': p.compute_vertex_values(),\n",
    "                     'x': mesh.coordinates()})\n",
    "        elif type == 'python':\n",
    "            np.save(self.solutionfolder + '/solution' + str(meshNumber), solutionFunction.vector().get_local())\n",
    "            print('Saved solution: ', solutionFunction)\n",
    "            solutionFile = df.File(self.solutionfolder + '/solution' + str(meshNumber) + '.xml')\n",
    "            solutionFile << solutionFunction.vector()\n",
    "        else:\n",
    "            raise ValueError('Unknown file format.')\n",
    "        return\n",
    "    '''\n",
    "\n",
    "    def saveSolution(self, solutionFunction, meshNumber):\n",
    "        mesh = solutionFunction.function_space().mesh()\n",
    "\n",
    "        hdf = df.HDF5File(mesh.mpi_comm(), self.solutionfolder + '/solution' + str(meshNumber) + '.h5', \"w\")\n",
    "        hdf.write(solutionFunction, 'solution')\n",
    "        hdf.close()\n",
    "\n",
    "    def loadSolution(self, meshNumber):\n",
    "        mesh = self.loadMesh(meshNumber)\n",
    "\n",
    "        hdf = df.HDF5File(df.mpi_comm_world(), self.solutionfolder + '/solution' + str(meshNumber) + '.h5', \"r\")\n",
    "\n",
    "        functionSpace = self.getFunctionSpace(mesh)\n",
    "        solution = df.Function(functionSpace)\n",
    "        hdf.read(solution, 'solution')\n",
    "        hdf.close()\n",
    "\n",
    "        return solution, mesh\n",
    "\n",
    "    def genData(self):\n",
    "        for meshNumber in self.meshes:\n",
    "            print('Current mesh number = ', meshNumber)\n",
    "            mesh = self.loadMesh(meshNumber)\n",
    "            functionSpace = self.getFunctionSpace(mesh)\n",
    "            interiorBC = self.getInteriorBC(functionSpace)\n",
    "            outerBC = self.getOuterBC(functionSpace)\n",
    "            boundaryConditions = [interiorBC, outerBC]\n",
    "            t = time.time()\n",
    "            try:\n",
    "                solution = self.solvePDE(functionSpace, mesh, boundaryConditions)\n",
    "                self.saveSolution(solution, meshNumber)\n",
    "                elapsed_time = time.time() - t\n",
    "                print('Stokes PDE solved. Time: ', elapsed_time)\n",
    "            except:\n",
    "                print('Solver failed to converge. Passing to next mesh')\n",
    "        return\n",
    "\n",
    "    def loadData(self, quantities):\n",
    "        # load and save data to object property\n",
    "        # quantities: list of quantities specified by strings: 'mesh', 'pressure', 'velocity'\n",
    "        for meshNumber in self.meshes:\n",
    "            if 'mesh' in quantities:\n",
    "                self.mesh.append(self.loadMesh(meshNumber))\n",
    "            if 'solution' in quantities:\n",
    "                U, _ = self.loadSolution(meshNumber)\n",
    "                self.solution.append(U)\n",
    "\n",
    "\n",
    "class DolfinPoisson(FlowProblem):\n",
    "    # Dolfin Darcy solver\n",
    "    # Create mesh and define function space\n",
    "    coarseMesh = df.UnitSquareMesh(2, 2)\n",
    "    solutionFunctionSpace = df.FunctionSpace(coarseMesh, 'CG', 1)\n",
    "    sourceTerm = df.Constant(0.0)\n",
    "\n",
    "    # Get boundary condition in dolfin form\n",
    "    def __init__(self):\n",
    "        # Is this translation of BC's correct?\n",
    "        self.bcPressure = df.DirichletBC(self.solutionFunctionSpace, self.pressureField,\n",
    "                              self.pressureBoundary, method='pointwise')\n",
    "        self.bcFlux = df.inner(df.FacetNormal(self.coarseMesh), self.flowField)\n",
    "        return\n",
    "\n",
    "    def solvePDE(self, diffusivity):\n",
    "        # Define variational problem\n",
    "        u = df.TrialFunction(self.solutionFunctionSpace)\n",
    "        v = df.TestFunction(self.solutionFunctionSpace)\n",
    "        a = diffusivity * df.inner(df.grad(v), df.grad(u)) * df.dx\n",
    "        L = self.sourceTerm * v * df.dx + self.bcFlux * v * df.ds\n",
    "\n",
    "        # Compute solution\n",
    "        u = df.Function(self.solutionFunctionSpace)\n",
    "        dfa.solve(a == L, u, self.bcPressure)\n",
    "        return u\n",
    "\n",
    "\n",
    "\n",
    "\n",
    "\n"
   ]
  },
  {
   "cell_type": "code",
   "execution_count": 2,
   "metadata": {},
   "outputs": [],
   "source": [
    "# tests\n",
    "df.set_log_level(20)\n",
    "stokesData = StokesData()"
   ]
  },
  {
   "cell_type": "code",
   "execution_count": null,
   "metadata": {},
   "outputs": [],
   "source": [
    "stokesData.genData()"
   ]
  },
  {
   "cell_type": "code",
   "execution_count": null,
   "metadata": {},
   "outputs": [],
   "source": [
    "stokesData.loadData(('mesh', 'solution'))\n"
   ]
  },
  {
   "cell_type": "code",
   "execution_count": 3,
   "metadata": {},
   "outputs": [
    {
     "name": "stdout",
     "output_type": "stream",
     "text": [
      "(Coefficient(FunctionSpace(Mesh(VectorElement(FiniteElement('Lagrange', triangle, 1), dim=2), 86), MixedElement(VectorElement(FiniteElement('Lagrange', triangle, 2), dim=2), FiniteElement('Lagrange', triangle, 1))), 92), <dolfin.cpp.mesh.Mesh; proxy of <Swig Object of type 'std::shared_ptr< dolfin::Mesh > *' at 0x7fa9ef2f8960> >)\n"
     ]
    }
   ],
   "source": [
    "print(stokesData.solution[1])\n"
   ]
  },
  {
   "cell_type": "code",
   "execution_count": 11,
   "metadata": {},
   "outputs": [],
   "source": [
    "U = stokesData.solution[1][0]"
   ]
  },
  {
   "cell_type": "code",
   "execution_count": 12,
   "metadata": {},
   "outputs": [],
   "source": [
    "v, p = U.split()\n"
   ]
  },
  {
   "cell_type": "code",
   "execution_count": 13,
   "metadata": {},
   "outputs": [
    {
     "data": {
      "text/plain": [
       "<Figure size 432x288 with 0 Axes>"
      ]
     },
     "execution_count": 13,
     "metadata": {},
     "output_type": "execute_result"
    },
    {
     "data": {
      "text/plain": [
       "<Figure size 432x288 with 0 Axes>"
      ]
     },
     "metadata": {},
     "output_type": "display_data"
    }
   ],
   "source": [
    "plt.figure()\n"
   ]
  },
  {
   "cell_type": "code",
   "execution_count": 14,
   "metadata": {},
   "outputs": [
    {
     "data": {
      "text/plain": [
       "<matplotlib.tri.tricontour.TriContourSet at 0x7fa9ebdbdfd0>"
      ]
     },
     "execution_count": 14,
     "metadata": {},
     "output_type": "execute_result"
    },
    {
     "data": {
      "image/png": "[encoded data removed]",
      "text/plain": [
       "<Figure size 432x288 with 1 Axes>"
      ]
     },
     "metadata": {},
     "output_type": "display_data"
    }
   ],
   "source": [
    "df.plot(p)\n"
   ]
  },
  {
   "cell_type": "code",
   "execution_count": 15,
   "metadata": {},
   "outputs": [],
   "source": [
    "plt.show()"
   ]
  },
  {
   "cell_type": "code",
   "execution_count": null,
   "metadata": {},
   "outputs": [],
   "source": []
  }
 ],
 "metadata": {
  "kernelspec": {
   "display_name": "Python [conda env:dfa]",
   "language": "python",
   "name": "conda-env-dfa-py"
  },
  "language_info": {
   "codemirror_mode": {
    "name": "ipython",
    "version": 3
   },
   "file_extension": ".py",
   "mimetype": "text/x-python",
   "name": "python",
   "nbconvert_exporter": "python",
   "pygments_lexer": "ipython3",
   "version": "3.5.5"
  }
 },
 "nbformat": 4,
 "nbformat_minor": 2
}
