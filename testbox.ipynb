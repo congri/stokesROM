{
 "cells": [
  {
   "cell_type": "code",
   "execution_count": null,
   "metadata": {},
   "outputs": [],
   "source": [
    "from multiprocessing import Process\n",
    "import os\n",
    "import time\n",
    "import scipy.optimize as opt"
   ]
  },
  {
   "cell_type": "code",
   "execution_count": null,
   "metadata": {},
   "outputs": [],
   "source": [
    "N = 100000000\n",
    "\n",
    "def f(name):\n",
    "    s = 0.0\n",
    "    for idx in range(0, N):\n",
    "        s += 1\n",
    "        \n",
    "    print(name, ' sum is ', s)\n",
    "    \n",
    "    return s\n",
    "\n",
    "def fun(x):\n",
    "    return (x - 7.0)**2\n",
    "\n",
    "def d_fun(x):\n",
    "    return 2*(x - 7.0)"
   ]
  },
  {
   "cell_type": "code",
   "execution_count": null,
   "metadata": {},
   "outputs": [],
   "source": []
  },
  {
   "cell_type": "code",
   "execution_count": 1,
   "metadata": {},
   "outputs": [
    {
     "name": "stdout",
     "output_type": "stream",
     "text": [
      "bob  sum is  100000000.0\n",
      "alice  sum is  100000000.0\n",
      "sp =  None\n",
      "sq =  None\n",
      "time parallel =  7.021637439727783\n",
      "bob  sum is  100000000.0\n",
      "alice  sum is  100000000.0\n",
      "time serial =  15.36678409576416\n"
     ]
    }
   ],
   "source": [
    "s_parallel = time.time()\n",
    "if __name__ == '__main__':\n",
    "    p = Process(target=f, args=('bob',))\n",
    "    q = Process(target=f, args=('alice',))\n",
    "    \n",
    "    p.start()    \n",
    "    q.start()\n",
    "    \n",
    "    sp = p.join()\n",
    "    sq = q.join()\n",
    "    \n",
    "    print('sp = ', sp)\n",
    "    print('sq = ', sq)\n",
    "e_parallel = time.time()\n",
    "print('time parallel = ', e_parallel - s_parallel)\n",
    "\n",
    "s_serial = time.time()\n",
    "f('bob')\n",
    "f('alice')\n",
    "e_serial = time.time()\n",
    "print('time serial = ', e_serial - s_serial)"
   ]
  },
  {
   "cell_type": "code",
   "execution_count": 2,
   "metadata": {},
   "outputs": [],
   "source": [
    "file = open('testfile.txt','w') \n",
    " \n",
    "file.write('Hello World\\n') \n",
    "file.write('This is our new text file\\n') \n",
    "file.write('and this is another line.\\n') \n",
    "file.write('Why? Because we can.\\n') \n",
    " \n",
    "file.close() "
   ]
  },
  {
   "cell_type": "code",
   "execution_count": 3,
   "metadata": {},
   "outputs": [
    {
     "name": "stdout",
     "output_type": "stream",
     "text": [
      "3.141592653589793\n"
     ]
    }
   ],
   "source": [
    "import math\n",
    "print(math.pi)"
   ]
  },
  {
   "cell_type": "code",
   "execution_count": 4,
   "metadata": {},
   "outputs": [
    {
     "ename": "SyntaxError",
     "evalue": "invalid syntax (<ipython-input-4-f78c6b86b404>, line 2)",
     "output_type": "error",
     "traceback": [
      "\u001b[0;36m  File \u001b[0;32m\"<ipython-input-4-f78c6b86b404>\"\u001b[0;36m, line \u001b[0;32m2\u001b[0m\n\u001b[0;31m    print('Yes') if fruit == 'Apple' else\u001b[0m\n\u001b[0m                                          ^\u001b[0m\n\u001b[0;31mSyntaxError\u001b[0m\u001b[0;31m:\u001b[0m invalid syntax\n"
     ]
    }
   ],
   "source": [
    "fruit = 'Apple'\n",
    "print('Yes') if fruit == 'Apple' else "
   ]
  },
  {
   "cell_type": "code",
   "execution_count": null,
   "metadata": {},
   "outputs": [],
   "source": [
    "A = np.empty((2, 1))\n",
    "print(A)\n",
    "A[0] = 1.0\n",
    "print(A)"
   ]
  },
  {
   "cell_type": "code",
   "execution_count": null,
   "metadata": {},
   "outputs": [],
   "source": [
    "A = []\n",
    "A[5] = 3"
   ]
  },
  {
   "cell_type": "code",
   "execution_count": 28,
   "metadata": {},
   "outputs": [
    {
     "data": {
      "text/plain": [
       "1.6549840276802644e+308"
      ]
     },
     "execution_count": 28,
     "metadata": {},
     "output_type": "execute_result"
    }
   ],
   "source": [
    "import numpy as np\n",
    "np.exp(709.)"
   ]
  },
  {
   "cell_type": "code",
   "execution_count": 30,
   "metadata": {},
   "outputs": [
    {
     "data": {
      "text/plain": [
       "1"
      ]
     },
     "execution_count": 30,
     "metadata": {},
     "output_type": "execute_result"
    }
   ],
   "source": [
    "10%3"
   ]
  },
  {
   "cell_type": "code",
   "execution_count": null,
   "metadata": {},
   "outputs": [],
   "source": []
  }
 ],
 "metadata": {
  "kernelspec": {
   "display_name": "Python [conda env:pyadjoint]",
   "language": "python",
   "name": "conda-env-pyadjoint-py"
  },
  "language_info": {
   "codemirror_mode": {
    "name": "ipython",
    "version": 3
   },
   "file_extension": ".py",
   "mimetype": "text/x-python",
   "name": "python",
   "nbconvert_exporter": "python",
   "pygments_lexer": "ipython3",
   "version": "3.5.5"
  }
 },
 "nbformat": 4,
 "nbformat_minor": 2
}
