{
 "cells": [
  {
   "cell_type": "code",
   "execution_count": 52,
   "metadata": {},
   "outputs": [
    {
     "name": "stdout",
     "output_type": "stream",
     "text": [
      "alice  sum is  100000000.0\n",
      "bob  sum is  100000000.0\n",
      "sp =  None\n",
      "sq =  None\n",
      "time parallel =  7.033702850341797\n",
      "bob  sum is  100000000.0\n",
      "alice  sum is  100000000.0\n",
      "time serial =  15.43185305595398\n"
     ]
    }
   ],
   "source": [
    "from multiprocessing import Process\n",
    "import os\n",
    "import time\n",
    "\n",
    "N = 100000000\n",
    "\n",
    "def f(name):\n",
    "    s = 0.0\n",
    "    for idx in range(0, N):\n",
    "        s += 1\n",
    "        \n",
    "    print(name, ' sum is ', s)\n",
    "    \n",
    "    return s\n",
    "\n",
    "s_parallel = time.time()\n",
    "if __name__ == '__main__':\n",
    "    p = Process(target=f, args=('bob',))\n",
    "    q = Process(target=f, args=('alice',))\n",
    "    \n",
    "    p.start()    \n",
    "    q.start()\n",
    "    \n",
    "    sp = p.join()\n",
    "    sq = q.join()\n",
    "    \n",
    "    print('sp = ', sp)\n",
    "    print('sq = ', sq)\n",
    "e_parallel = time.time()\n",
    "print('time parallel = ', e_parallel - s_parallel)\n",
    "\n",
    "s_serial = time.time()\n",
    "f('bob')\n",
    "f('alice')\n",
    "e_serial = time.time()\n",
    "print('time serial = ', e_serial - s_serial)"
   ]
  },
  {
   "cell_type": "code",
   "execution_count": 41,
   "metadata": {},
   "outputs": [],
   "source": [
    "file = open('testfile.txt','w') \n",
    " \n",
    "file.write('Hello World\\n') \n",
    "file.write('This is our new text file\\n') \n",
    "file.write('and this is another line.\\n') \n",
    "file.write('Why? Because we can.\\n') \n",
    " \n",
    "file.close() "
   ]
  },
  {
   "cell_type": "code",
   "execution_count": 43,
   "metadata": {},
   "outputs": [
    {
     "name": "stdout",
     "output_type": "stream",
     "text": [
      "3.141592653589793\n"
     ]
    }
   ],
   "source": [
    "import math\n",
    "print(math.pi)"
   ]
  },
  {
   "cell_type": "code",
   "execution_count": 48,
   "metadata": {},
   "outputs": [
    {
     "name": "stdout",
     "output_type": "stream",
     "text": [
      "Yes\n"
     ]
    }
   ],
   "source": [
    "fruit = 'Apple'\n",
    "print('Yes') if fruit == 'Apple' else "
   ]
  },
  {
   "cell_type": "code",
   "execution_count": 51,
   "metadata": {},
   "outputs": [
    {
     "name": "stdout",
     "output_type": "stream",
     "text": [
      "[[  6.91988995e-310]\n",
      " [  1.17667069e-316]]\n",
      "[[  1.00000000e+000]\n",
      " [  1.17667069e-316]]\n"
     ]
    }
   ],
   "source": [
    "A = np.empty((2, 1))\n",
    "print(A)\n",
    "A[0] = 1.0\n",
    "print(A)"
   ]
  },
  {
   "cell_type": "code",
   "execution_count": 53,
   "metadata": {},
   "outputs": [
    {
     "ename": "IndexError",
     "evalue": "list assignment index out of range",
     "output_type": "error",
     "traceback": [
      "\u001b[0;31m---------------------------------------------------------------------------\u001b[0m",
      "\u001b[0;31mIndexError\u001b[0m                                Traceback (most recent call last)",
      "\u001b[0;32m<ipython-input-53-be8f5af8e800>\u001b[0m in \u001b[0;36m<module>\u001b[0;34m()\u001b[0m\n\u001b[1;32m      1\u001b[0m \u001b[0mA\u001b[0m \u001b[0;34m=\u001b[0m \u001b[0;34m[\u001b[0m\u001b[0;34m]\u001b[0m\u001b[0;34m\u001b[0m\u001b[0m\n\u001b[0;32m----> 2\u001b[0;31m \u001b[0mA\u001b[0m\u001b[0;34m[\u001b[0m\u001b[0;36m5\u001b[0m\u001b[0;34m]\u001b[0m \u001b[0;34m=\u001b[0m \u001b[0;36m3\u001b[0m\u001b[0;34m\u001b[0m\u001b[0m\n\u001b[0m",
      "\u001b[0;31mIndexError\u001b[0m: list assignment index out of range"
     ]
    }
   ],
   "source": [
    "A = []\n",
    "A[5] = 3"
   ]
  },
  {
   "cell_type": "code",
   "execution_count": null,
   "metadata": {},
   "outputs": [],
   "source": []
  }
 ],
 "metadata": {
  "kernelspec": {
   "display_name": "Python [conda env:pyadjoint]",
   "language": "python",
   "name": "conda-env-pyadjoint-py"
  },
  "language_info": {
   "codemirror_mode": {
    "name": "ipython",
    "version": 3
   },
   "file_extension": ".py",
   "mimetype": "text/x-python",
   "name": "python",
   "nbconvert_exporter": "python",
   "pygments_lexer": "ipython3",
   "version": "3.5.5"
  }
 },
 "nbformat": 4,
 "nbformat_minor": 2
}
