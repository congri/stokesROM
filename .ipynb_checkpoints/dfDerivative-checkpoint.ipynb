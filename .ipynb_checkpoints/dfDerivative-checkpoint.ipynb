{
 "cells": [
  {
   "cell_type": "code",
   "execution_count": 1,
   "metadata": {},
   "outputs": [],
   "source": [
    "import dolfin as df\n",
    "import numpy as np\n",
    "import matplotlib.pyplot as plt\n",
    "%matplotlib inline"
   ]
  },
  {
   "cell_type": "code",
   "execution_count": 2,
   "metadata": {},
   "outputs": [
    {
     "name": "stdout",
     "output_type": "stream",
     "text": [
      "[ 12.           2.          10.33333333   3.66666667  12.           2.        ]\n"
     ]
    }
   ],
   "source": [
    "# Create mesh and define function space\n",
    "mesh = df.UnitSquareMesh(2, 1)\n",
    "V = df.FunctionSpace(mesh, 'CG', 1)\n",
    "Vc = df.FunctionSpace(mesh,'DG', 0)\n",
    "\n",
    "# Define Dirichlet boundary (x = 0 or x = 1)\n",
    "def dirichletBoundary(x):\n",
    "    return x[0] < df.DOLFIN_EPS or x[0] > 1.0 -df.DOLFIN_EPS\n",
    "\n",
    "# Define Dirichlet boundary condition\n",
    "u0 = df.Expression('10.0*x[1] + 2.0', degree=1)\n",
    "bc = df.DirichletBC(V, u0, dirichletBoundary, method='pointwise')\n",
    "\n",
    "#Define Neumann boundary condition\n",
    "u_x = '0.0-2.0*x[1]'\n",
    "u_y = '1.0-2.0*x[0]'\n",
    "flowField = df.Expression((u_x, u_y), degree=2)\n",
    "bcFlux = df.inner(df.FacetNormal(mesh), flowField)\n",
    "\n",
    "#Heat source\n",
    "sourceTerm = df.Expression('0.0', degree=1)\n",
    "\n",
    "\n",
    "theta = df.Function(Vc)\n",
    "theta.vector()[:] = 1 + np.abs(np.random.normal(0,0.0,Vc.dim()))\n",
    "\n",
    "# Define variational problem\n",
    "u = df.TrialFunction(V)\n",
    "v = df.TestFunction(V)\n",
    "#f = df.Expression(\"10*exp(-(pow(x[0] - 0.5, 2) + pow(x[1] - 0.5, 2)) / 0.02)\",degree=2)\n",
    "#a = theta * df.inner(df.grad(u), df.grad(v))*df.dx\n",
    "#L = f * v * df.dx\n",
    "\n",
    "a = theta * df.inner(df.grad(v), df.grad(u)) * df.dx\n",
    "L = sourceTerm * v * df.dx + bcFlux * v * df.ds\n",
    "\n",
    "# Compute solution\n",
    "u = df.Function(V)\n",
    "df.solve(a == L, u, bc)\n",
    "\n",
    "print(u.vector().get_local())"
   ]
  },
  {
   "cell_type": "code",
   "execution_count": 3,
   "metadata": {},
   "outputs": [],
   "source": [
    "# For repeated finite difference evaluation\n",
    "def ForwardSolver(x):\n",
    "    \n",
    "    uu = df.TrialFunction(V)\n",
    "    vv = df.TestFunction(V)\n",
    "    thetal = df.Function(Vc)\n",
    "    thetal.vector()[:] = x\n",
    "    aa = thetal * df.inner(df.grad(uu), df.grad(vv)) * df.dx\n",
    "    LL = sourceTerm * vv * df.dx + bcFlux * vv * df.ds\n",
    "    uu = df.Function(V)\n",
    "    df.solve(aa == LL, uu, bc)\n",
    "    return uu.vector().get_local()"
   ]
  },
  {
   "cell_type": "code",
   "execution_count": 4,
   "metadata": {},
   "outputs": [
    {
     "data": {
      "text/plain": [
       "<matplotlib.colorbar.Colorbar at 0x7f0271c855f8>"
      ]
     },
     "execution_count": 4,
     "metadata": {},
     "output_type": "execute_result"
    },
    {
     "data": {
      "image/png": "[encoded data removed]",
      "text/plain": [
       "<Figure size 432x288 with 2 Axes>"
      ]
     },
     "metadata": {},
     "output_type": "display_data"
    }
   ],
   "source": [
    "# Plot of solution\n",
    "pu = df.plot(u)\n",
    "plt.colorbar(pu)"
   ]
  },
  {
   "cell_type": "code",
   "execution_count": 5,
   "metadata": {},
   "outputs": [],
   "source": [
    "# Make up bogus functional\n",
    "#H = np.random.normal(0,1,(V.dim(), V.dim()))\n",
    "#H = H + H.T + np.eye(V.dim())\n",
    "H = np.eye(V.dim())\n",
    "\n",
    "# A functional of the solution which by construction has H as the Hessian\n",
    "def Functional(x):\n",
    "    return - 0.5 * x.dot(H.dot(x))"
   ]
  },
  {
   "cell_type": "code",
   "execution_count": 6,
   "metadata": {},
   "outputs": [],
   "source": [
    "# Get Finite Difference Vector\n",
    "h = 1e-6\n",
    "\n",
    "x0 = theta.vector().get_local()\n",
    "grad_fd = np.zeros(Vc.dim())\n",
    "\n",
    "for i in range(Vc.dim()):\n",
    "    xp = x0.copy()\n",
    "    xm = x0.copy()\n",
    "    \n",
    "    xp[i] = xp[i] + h\n",
    "    xm[i] = xm[i] - h\n",
    "        \n",
    "    upv = ForwardSolver(xp)\n",
    "    Lp = Functional(upv)\n",
    "    \n",
    "    upm = ForwardSolver(xm)\n",
    "    Lm = Functional(upm)\n",
    "    \n",
    "    grad_fd[i] = (Lp - Lm)/(2*h)"
   ]
  },
  {
   "cell_type": "code",
   "execution_count": 7,
   "metadata": {
    "scrolled": true
   },
   "outputs": [
    {
     "name": "stdout",
     "output_type": "stream",
     "text": [
      "K =  [[ 1.   0.   0.   0.   0.   0. ]\n",
      " [ 0.   1.   0.   0.   0.   0. ]\n",
      " [-1.   0.   2.5 -0.5 -1.   0. ]\n",
      " [ 0.  -1.  -0.5  2.5  0.  -1. ]\n",
      " [ 0.   0.   0.   0.   1.   0. ]\n",
      " [ 0.   0.   0.   0.   0.   1. ]]\n"
     ]
    }
   ],
   "source": [
    "# derivative of residual wrt u\n",
    "K = df.assemble(a)\n",
    "\n",
    "# we need to apply boundary condition to K\n",
    "bc.apply(K)\n",
    "K = K.array()\n",
    "print('K = ', K)\n",
    "\n",
    "# derivative of functional wrt u\n",
    "b = -H.dot(u.vector().get_local())\n",
    "\n",
    "# get adjoints\n",
    "adjoints = np.linalg.solve(K.T, b)"
   ]
  },
  {
   "cell_type": "code",
   "execution_count": 9,
   "metadata": {},
   "outputs": [],
   "source": [
    "h = 1.0\n",
    "theta.vector()[0] = theta.vector().get_local()[0] + h"
   ]
  },
  {
   "cell_type": "code",
   "execution_count": 10,
   "metadata": {},
   "outputs": [
    {
     "name": "stdout",
     "output_type": "stream",
     "text": [
      "K_local2 ==  [[ 2.  -2.   0. ]\n",
      " [-2.   2.5 -0.5]\n",
      " [ 0.  -0.5  0.5]]\n",
      "d_K_local_fd ==  [[ 1.   -1.    0.  ]\n",
      " [-1.    1.25 -0.25]\n",
      " [ 0.   -0.25  0.25]]\n"
     ]
    }
   ],
   "source": [
    "w = df.TrialFunction(V)\n",
    "a5 = theta * df.inner(df.grad(v), df.grad(w)) * df.dx\n",
    "K_local2 = df.assemble_local(a5, cll)\n",
    "print('K_local2 == ', K_local2)\n",
    "d_K_local_fd = (K_local2 - K_local)/h\n",
    "print('d_K_local_fd == ', d_K_local_fd)"
   ]
  },
  {
   "cell_type": "code",
   "execution_count": 11,
   "metadata": {},
   "outputs": [],
   "source": [
    "w = df.TrialFunction(V)\n",
    "a2 = theta * df.inner(df.grad(v), df.grad(w)) * df.dx\n",
    "K2 = df.assemble(a2)\n",
    "\n",
    "# we need to apply boundary condition to K\n",
    "bc.apply(K2)\n",
    "K2 = K2.array()\n",
    "#print('K2 = ', K2)"
   ]
  },
  {
   "cell_type": "code",
   "execution_count": 12,
   "metadata": {},
   "outputs": [
    {
     "name": "stdout",
     "output_type": "stream",
     "text": [
      "d_K1_fd ==  [[ 0.    0.    0.    0.    0.    0.  ]\n",
      " [ 0.    0.    0.    0.    0.    0.  ]\n",
      " [ 0.    0.    0.25 -0.25  0.    0.  ]\n",
      " [ 0.   -1.   -0.25  1.25  0.    0.  ]\n",
      " [ 0.    0.    0.    0.    0.    0.  ]\n",
      " [ 0.    0.    0.    0.    0.    0.  ]]\n"
     ]
    }
   ],
   "source": [
    "d_K1_fd = (K2 - K)/h\n",
    "print('d_K1_fd == ', d_K1_fd)"
   ]
  },
  {
   "cell_type": "code",
   "execution_count": 13,
   "metadata": {},
   "outputs": [
    {
     "name": "stdout",
     "output_type": "stream",
     "text": [
      "d_K1 ==  [[ 0.    0.   -0.    0.    0.    0.  ]\n",
      " [ 0.    1.    0.   -1.    0.    0.  ]\n",
      " [-0.    0.    0.25 -0.25 -0.    0.  ]\n",
      " [ 0.   -1.   -0.25  1.25  0.    0.  ]\n",
      " [ 0.    0.   -0.    0.    0.   -0.  ]\n",
      " [ 0.    0.    0.    0.   -0.    0.  ]]\n"
     ]
    }
   ],
   "source": [
    "w = df.TrialFunction(V)\n",
    "theta.vector().set_local(np.zeros(Vc.dim()))\n",
    "theta.vector()[0] = 1.0\n",
    "a3 = theta * df.inner(df.grad(v), df.grad(w)) * df.dx\n",
    "#a3 = theta * df.inner(df.grad(v), df.grad(u)) * df.dx\n",
    "d_K1 = df.assemble(a3)\n",
    "#bc.apply(d_K1)\n",
    "d_K1 = d_K1.array()\n",
    "print('d_K1 == ', d_K1)\n"
   ]
  },
  {
   "cell_type": "code",
   "execution_count": 14,
   "metadata": {},
   "outputs": [
    {
     "name": "stdout",
     "output_type": "stream",
     "text": [
      "d_K_local ==  [[ 1.   -1.    0.  ]\n",
      " [-1.    1.25 -0.25]\n",
      " [ 0.   -0.25  0.25]]\n"
     ]
    }
   ],
   "source": [
    "w = df.TrialFunction(V)\n",
    "theta.vector().set_local(np.zeros(Vc.dim()))\n",
    "theta.vector()[0] = 1.0\n",
    "a3 = theta * df.inner(df.grad(v), df.grad(w)) * df.dx\n",
    "d_K_local = df.assemble_local(a3, cll)\n",
    "#d_K_local = d_K_local.array()\n",
    "print('d_K_local == ', d_K_local)"
   ]
  },
  {
   "cell_type": "code",
   "execution_count": 15,
   "metadata": {},
   "outputs": [
    {
     "name": "stdout",
     "output_type": "stream",
     "text": [
      "d_a ==  [[  0.00000000e+00   4.16666667e+00   0.00000000e+00   0.00000000e+00]\n",
      " [ -1.66666667e+00  -2.50000000e+00   0.00000000e+00   0.00000000e+00]\n",
      " [  1.66666667e+00  -1.66666667e+00   0.00000000e+00  -1.33226763e-15]\n",
      " [  0.00000000e+00   0.00000000e+00   1.66666667e+00  -1.66666667e+00]\n",
      " [  0.00000000e+00   0.00000000e+00   2.50000000e+00   1.66666667e+00]\n",
      " [  0.00000000e+00   0.00000000e+00  -4.16666667e+00   0.00000000e+00]]\n"
     ]
    }
   ],
   "source": [
    "d_a = df.derivative(a2 * u, theta)\n",
    "d_a = df.assemble(d_a)\n",
    "d_a = d_a.array()\n",
    "print('d_a == ', d_a)"
   ]
  },
  {
   "cell_type": "code",
   "execution_count": null,
   "metadata": {},
   "outputs": [],
   "source": []
  },
  {
   "cell_type": "code",
   "execution_count": 16,
   "metadata": {},
   "outputs": [
    {
     "name": "stdout",
     "output_type": "stream",
     "text": [
      "grad_test ==  [  0.37037037  50.55555556  27.22222222  23.7037037 ]\n"
     ]
    }
   ],
   "source": [
    "grad_test = - adjoints.dot(d_a)\n",
    "print('grad_test == ', grad_test)"
   ]
  },
  {
   "cell_type": "code",
   "execution_count": 17,
   "metadata": {},
   "outputs": [],
   "source": [
    "# derivative of r wrt theta\n",
    "# the trick is that here we are not using u as trial functions, but instead as function\n",
    "r = theta * df.inner(df.grad(u), df.grad(v)) * df.dx    # the part of the residual that depends on theta"
   ]
  },
  {
   "cell_type": "code",
   "execution_count": 18,
   "metadata": {
    "scrolled": true
   },
   "outputs": [
    {
     "name": "stdout",
     "output_type": "stream",
     "text": [
      "dr_dtheta =  [[  0.00000000e+00   4.16666667e+00   0.00000000e+00   0.00000000e+00]\n",
      " [ -1.66666667e+00  -2.50000000e+00   0.00000000e+00   0.00000000e+00]\n",
      " [  1.66666667e+00  -1.66666667e+00   0.00000000e+00  -1.33226763e-15]\n",
      " [  0.00000000e+00   0.00000000e+00   1.66666667e+00  -1.66666667e+00]\n",
      " [  0.00000000e+00   0.00000000e+00   2.50000000e+00   1.66666667e+00]\n",
      " [  0.00000000e+00   0.00000000e+00  -4.16666667e+00   0.00000000e+00]]\n"
     ]
    }
   ],
   "source": [
    "dr_dtheta = df.assemble(df.derivative(r, theta)).array()\n",
    "print('dr_dtheta = ', dr_dtheta)"
   ]
  },
  {
   "cell_type": "code",
   "execution_count": 19,
   "metadata": {},
   "outputs": [],
   "source": [
    "grad_adjoint = -adjoints.dot(dr_dtheta)"
   ]
  },
  {
   "cell_type": "code",
   "execution_count": 20,
   "metadata": {},
   "outputs": [
    {
     "name": "stdout",
     "output_type": "stream",
     "text": [
      "d1 =  7.68518518519\n"
     ]
    }
   ],
   "source": [
    "d1 = -adjoints.dot(d_K1_fd)\n",
    "d1 = d1.dot(u.vector().get_local())\n",
    "print('d1 = ', d1)"
   ]
  },
  {
   "cell_type": "code",
   "execution_count": 21,
   "metadata": {},
   "outputs": [
    {
     "name": "stdout",
     "output_type": "stream",
     "text": [
      "d1b =  0.37037037037\n"
     ]
    }
   ],
   "source": [
    "d1b = -adjoints.dot(d_K1)\n",
    "d1b = d1b.dot(u.vector().get_local())\n",
    "print('d1b = ', d1b)"
   ]
  },
  {
   "cell_type": "code",
   "execution_count": 22,
   "metadata": {},
   "outputs": [
    {
     "name": "stdout",
     "output_type": "stream",
     "text": [
      "Relative Error (L2): 5.631773150231158\n"
     ]
    }
   ],
   "source": [
    "print(\"Relative Error (L2): {}\".format(np.linalg.norm(grad_fd - grad_adjoint)/np.linalg.norm(grad_fd)))"
   ]
  },
  {
   "cell_type": "code",
   "execution_count": 23,
   "metadata": {},
   "outputs": [
    {
     "data": {
      "image/png": "[encoded data removed]",
      "text/plain": [
       "<Figure size 432x288 with 1 Axes>"
      ]
     },
     "metadata": {},
     "output_type": "display_data"
    }
   ],
   "source": [
    "plt.plot(grad_fd)\n",
    "plt.plot(grad_adjoint,'r--')\n",
    "plt.plot(grad_test,'k')\n",
    "plt.title('Gradient wrt theta');"
   ]
  },
  {
   "cell_type": "code",
   "execution_count": 24,
   "metadata": {},
   "outputs": [
    {
     "name": "stdout",
     "output_type": "stream",
     "text": [
      "fd_grad =  [ 7.6851852  -7.68518518  3.98148148 -3.98148148]\n",
      "grad =  [  0.37037037  50.55555556  27.22222222  23.7037037 ]\n",
      "grad_test =  [  0.37037037  50.55555556  27.22222222  23.7037037 ]\n",
      "rel. grad =  [ 0.04819277 -6.57831326  6.8372093  -5.95348837]\n",
      "rel. grad2 =  [ 0.04819277 -6.57831326  6.8372093  -5.95348837]\n"
     ]
    }
   ],
   "source": [
    "print('fd_grad = ', grad_fd)\n",
    "print('grad = ', grad_adjoint)\n",
    "print('grad_test = ', grad_test)\n",
    "print('rel. grad = ', grad_adjoint/grad_fd)\n",
    "print('rel. grad2 = ', grad_test/grad_fd)"
   ]
  },
  {
   "cell_type": "code",
   "execution_count": 25,
   "metadata": {},
   "outputs": [
    {
     "data": {
      "text/plain": [
       "array([[0, 1, 4],\n",
       "       [0, 3, 4],\n",
       "       [1, 2, 5],\n",
       "       [1, 4, 5]], dtype=uint32)"
      ]
     },
     "execution_count": 25,
     "metadata": {},
     "output_type": "execute_result"
    }
   ],
   "source": [
    "mesh.cells()"
   ]
  },
  {
   "cell_type": "code",
   "execution_count": 26,
   "metadata": {},
   "outputs": [
    {
     "data": {
      "text/plain": [
       "array([[ 0. ,  0. ],\n",
       "       [ 0.5,  0. ],\n",
       "       [ 1. ,  0. ],\n",
       "       [ 0. ,  1. ],\n",
       "       [ 0.5,  1. ],\n",
       "       [ 1. ,  1. ]])"
      ]
     },
     "execution_count": 26,
     "metadata": {},
     "output_type": "execute_result"
    }
   ],
   "source": [
    "mesh.coordinates()"
   ]
  },
  {
   "cell_type": "code",
   "execution_count": 27,
   "metadata": {},
   "outputs": [
    {
     "name": "stdout",
     "output_type": "stream",
     "text": [
      "<Mesh entity 0 of topological dimension 2>\n"
     ]
    }
   ],
   "source": [
    "cll = df.Cell(mesh, 0)\n",
    "print(cll)"
   ]
  },
  {
   "cell_type": "code",
   "execution_count": null,
   "metadata": {},
   "outputs": [],
   "source": []
  },
  {
   "cell_type": "code",
   "execution_count": null,
   "metadata": {},
   "outputs": [],
   "source": []
  },
  {
   "cell_type": "code",
   "execution_count": null,
   "metadata": {},
   "outputs": [],
   "source": []
  },
  {
   "cell_type": "code",
   "execution_count": null,
   "metadata": {},
   "outputs": [],
   "source": []
  }
 ],
 "metadata": {
  "kernelspec": {
   "display_name": "Python [conda env:pyadjoint]",
   "language": "python",
   "name": "conda-env-pyadjoint-py"
  },
  "language_info": {
   "codemirror_mode": {
    "name": "ipython",
    "version": 3
   },
   "file_extension": ".py",
   "mimetype": "text/x-python",
   "name": "python",
   "nbconvert_exporter": "python",
   "pygments_lexer": "ipython3",
   "version": "3.5.5"
  }
 },
 "nbformat": 4,
 "nbformat_minor": 2
}
