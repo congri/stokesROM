{
 "cells": [
  {
   "cell_type": "markdown",
   "metadata": {},
   "source": [
    "http://www.dolfin-adjoint.org/en/latest/documentation/manual.html#dolfin-adjoint-manual"
   ]
  },
  {
   "cell_type": "code",
   "execution_count": 21,
   "metadata": {},
   "outputs": [
    {
     "name": "stdout",
     "output_type": "stream",
     "text": [
      "The autoreload extension is already loaded. To reload it, use:\n",
      "  %reload_ext autoreload\n"
     ]
    }
   ],
   "source": [
    "%load_ext autoreload\n",
    "%autoreload 2\n",
    "from fenics import *\n",
    "from fenics_adjoint import *\n",
    "import numpy as np\n",
    "\n",
    "import adjoint\n",
    "\n",
    "from pyadjoint import Block, annotate_tape, stop_annotating\n",
    "from fenics_adjoint import get_working_tape\n",
    "from fenics_adjoint.types import create_overloaded_object\n",
    "\n",
    "\n",
    "from pyadjoint import ReducedFunctional\n",
    "from pyadjoint.reduced_functional_numpy import ReducedFunctionalNumPy\n",
    "\n",
    "import fenics_adjoint\n",
    "import pyadjoint\n",
    "#from adjoint import MakePyadjointFunctionFromLikelihood\n",
    "#from adjoint import PseudoLikelihood\n",
    "\n",
    "import matplotlib.pyplot as plt\n",
    "%matplotlib inline"
   ]
  },
  {
   "cell_type": "code",
   "execution_count": 22,
   "metadata": {},
   "outputs": [],
   "source": [
    "# @Constantin: this is the functional wrt which you take derivatives\n",
    "# i.e. takes for instance the solution of your stokes flow and returns\n",
    "# any arbitrary scalar quantitity\n",
    "def backend_normalise(func):\n",
    "    vec = func.vector()\n",
    "    #vec /= vec.norm('l2')\n",
    "    #return Function(func.function_space(), vec)\n",
    "    return vec.norm('l2')**2"
   ]
  },
  {
   "cell_type": "code",
   "execution_count": 23,
   "metadata": {},
   "outputs": [],
   "source": [
    "# @Constantin: here you have to write an annotated version of that function\n",
    "# that creates a corresponding block\n",
    "def normalise(func, **kwargs):\n",
    "    annotate = annotate_tape(kwargs)\n",
    "\n",
    "    if annotate:\n",
    "        tape = get_working_tape()\n",
    "        block = NormaliseBlock(func)\n",
    "        tape.add_block(block)\n",
    "\n",
    "    with stop_annotating():\n",
    "        output = backend_normalise(func, **kwargs)\n",
    "\n",
    "    output = create_overloaded_object(output)\n",
    "\n",
    "    if annotate:\n",
    "        block.add_output(output.create_block_variable())\n",
    "\n",
    "    return output\n"
   ]
  },
  {
   "cell_type": "code",
   "execution_count": 24,
   "metadata": {},
   "outputs": [],
   "source": [
    "class NormaliseBlock(Block):\n",
    "    def __init__(self, func, **kwargs):\n",
    "        super(NormaliseBlock, self).__init__()\n",
    "        self.kwargs = kwargs\n",
    "        self.add_dependency(func.block_variable)\n",
    "\n",
    "    def __str__(self):\n",
    "        return 'NormaliseBlock'\n",
    "\n",
    "    def evaluate_adj(self):\n",
    "        # must return fenics vector, not numpy (?)\n",
    "        \n",
    "        adj_input = self.get_outputs()[0].adj_value\n",
    "        dependency = self.get_dependencies()[0]\n",
    "        x = dependency.saved_output.vector()\n",
    "\n",
    "        # gradient\n",
    "        adj_output = 2*x.copy()\n",
    "\n",
    "        dependency.add_adj_output(adj_output)\n",
    "\n",
    "    def recompute(self):\n",
    "        dependencies = self.get_dependencies()\n",
    "        func = dependencies[0].saved_output\n",
    "        output = backend_normalise(func)\n",
    "        self.get_outputs()[0].checkpoint = output"
   ]
  },
  {
   "cell_type": "markdown",
   "metadata": {},
   "source": [
    "# Solve Poisson problem"
   ]
  },
  {
   "cell_type": "code",
   "execution_count": 25,
   "metadata": {},
   "outputs": [],
   "source": [
    "# Create mesh and define function space\n",
    "mesh = UnitSquareMesh(32, 32)\n",
    "V = FunctionSpace(mesh, \"Lagrange\", 1)\n",
    "\n",
    "# Define Dirichlet boundary (x = 0 or x = 1)\n",
    "def boundary(x):\n",
    "    return x[0] < DOLFIN_EPS or x[0] > 1.0 - DOLFIN_EPS\n",
    "\n",
    "# Define boundary condition\n",
    "u0 = Constant(0.0)\n",
    "bc = DirichletBC(V, u0, boundary)\n",
    "\n",
    "# Define variational problem\n",
    "u = TrialFunction(V)\n",
    "v = TestFunction(V)\n",
    "fe = Expression(\"10*exp(-(pow(x[0] - 0.5, 2) + pow(x[1] - 0.5, 2)) / 0.02)\", degree=2)\n",
    "f = project(fe, V)\n",
    "g = Expression(\"sin(5*x[0])\", degree=2)\n",
    "a = inner(grad(u), grad(v))*dx\n",
    "L = f*v*dx + g*v*ds\n",
    "\n",
    "# Compute solution\n",
    "u = Function(V)\n",
    "solve(a == L, u, bc)"
   ]
  },
  {
   "cell_type": "code",
   "execution_count": 26,
   "metadata": {},
   "outputs": [],
   "source": [
    "#from adjoint import MakePyadjointFunctionFromLikelihood\n",
    "#from adjoint import PseudoLikelihood"
   ]
  },
  {
   "cell_type": "code",
   "execution_count": 10,
   "metadata": {},
   "outputs": [],
   "source": [
    "#lkl = PseudoLikelihood()\n",
    "#LogEval = MakePyadjointFunctionFromLikelihood(lkl, f)"
   ]
  },
  {
   "cell_type": "code",
   "execution_count": 27,
   "metadata": {},
   "outputs": [],
   "source": [
    "#t = LogEval(f)\n",
    "t = normalise(u)"
   ]
  },
  {
   "cell_type": "code",
   "execution_count": 28,
   "metadata": {},
   "outputs": [
    {
     "data": {
      "text/plain": [
       "pyadjoint.adjfloat.AdjFloat"
      ]
     },
     "execution_count": 28,
     "metadata": {},
     "output_type": "execute_result"
    }
   ],
   "source": [
    "type(t)"
   ]
  },
  {
   "cell_type": "code",
   "execution_count": 29,
   "metadata": {},
   "outputs": [],
   "source": [
    "RF = ReducedFunctional(t, Control(f))\n",
    "\n",
    "# More convenient\n",
    "# RF_np = ReducedFunctionalNumPy(g, Control(f))\n",
    "#a = RF_np.set_controls(2*np.ones(V.dim()))[0]"
   ]
  },
  {
   "cell_type": "code",
   "execution_count": 30,
   "metadata": {},
   "outputs": [
    {
     "name": "stdout",
     "output_type": "stream",
     "text": [
      "Calling FFC just-in-time (JIT) compiler, this may take some time.\n",
      "Calling FFC just-in-time (JIT) compiler, this may take some time.\n",
      "Calling FFC just-in-time (JIT) compiler, this may take some time.\n"
     ]
    }
   ],
   "source": [
    "grad = RF.derivative()"
   ]
  },
  {
   "cell_type": "code",
   "execution_count": 33,
   "metadata": {},
   "outputs": [],
   "source": [
    "grad_np = grad.vector().get_local()"
   ]
  },
  {
   "cell_type": "code",
   "execution_count": 34,
   "metadata": {},
   "outputs": [
    {
     "data": {
      "text/plain": [
       "[<matplotlib.lines.Line2D at 0x7f231a4f4ef0>]"
      ]
     },
     "execution_count": 34,
     "metadata": {},
     "output_type": "execute_result"
    },
    {
     "data": {
      "image/png": "[encoded data removed]",
      "text/plain": [
       "<Figure size 432x288 with 1 Axes>"
      ]
     },
     "metadata": {},
     "output_type": "display_data"
    }
   ],
   "source": [
    "plt.plot(grad_np)"
   ]
  },
  {
   "cell_type": "code",
   "execution_count": 36,
   "metadata": {},
   "outputs": [
    {
     "name": "stdout",
     "output_type": "stream",
     "text": [
      "Running Taylor test\n",
      "Computed residuals: [8.799991595802303e-06, 2.1999978931618036e-06, 5.499994712842432e-07, 1.3749985926844038e-07]\n",
      "Computed convergence rates: [2.0000000037961096, 2.0000000052624523, 2.0000000897369841]\n"
     ]
    },
    {
     "data": {
      "text/plain": [
       "2.0000000037961096"
      ]
     },
     "execution_count": 36,
     "metadata": {},
     "output_type": "execute_result"
    }
   ],
   "source": [
    "h = Function(V)\n",
    "h.vector()[:] = 0.1\n",
    "taylor_test(RF, f, h)\n",
    "\n",
    "# should be okay"
   ]
  },
  {
   "cell_type": "code",
   "execution_count": null,
   "metadata": {},
   "outputs": [],
   "source": []
  }
 ],
 "metadata": {
  "kernelspec": {
   "display_name": "Python [default]",
   "language": "python",
   "name": "python3"
  },
  "language_info": {
   "codemirror_mode": {
    "name": "ipython",
    "version": 3
   },
   "file_extension": ".py",
   "mimetype": "text/x-python",
   "name": "python",
   "nbconvert_exporter": "python",
   "pygments_lexer": "ipython3",
   "version": "3.5.5"
  }
 },
 "nbformat": 4,
 "nbformat_minor": 2
}
